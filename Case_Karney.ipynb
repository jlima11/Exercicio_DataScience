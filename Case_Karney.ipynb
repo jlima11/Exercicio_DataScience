{
  "cells": [
    {
      "cell_type": "markdown",
      "metadata": {
        "id": "view-in-github",
        "colab_type": "text"
      },
      "source": [
        "<a href=\"https://colab.research.google.com/github/jlima11/Exercicio_DataScience/blob/main/Case_Karney.ipynb\" target=\"_parent\"><img src=\"https://colab.research.google.com/assets/colab-badge.svg\" alt=\"Open In Colab\"/></a>"
      ]
    },
    {
      "cell_type": "markdown",
      "metadata": {
        "id": "EgxDRL5VWCOh"
      },
      "source": [
        "# Summary "
      ]
    },
    {
      "cell_type": "markdown",
      "metadata": {
        "id": "GxoIi4DqWCOh"
      },
      "source": [
        "(1) - Initial Data Analysis\n",
        "\n",
        "\n",
        "A. Exploratory Data Analysis\n",
        "\n",
        "– 1. Read, clean and explore the received data. Explain each step and\n",
        "why.\n",
        "\n",
        "Steps: \n",
        "(1) undestanding all datas, to take decisions about importance and redundance\n",
        "(2) manipulating the data  \n",
        "(3) substituing null datas \n",
        "(4) transform categorical data in int value.\n",
        "(5) droping outliers\n",
        " \n",
        "– 2. What’s the distribution for customer total debt variable? Draw a\n",
        "histogram. How should you group this variable?\t\n",
        "\n",
        "The distribution is fisher distribution, where \n",
        "\n",
        "– 3. Analyze the “collected” variable correlating it to separate variables.\n",
        "Plot this information.\n",
        "\n",
        "B. Feature selection\n",
        "\n",
        "– 1. Select the top 3-6 variables you consider that may be most\n",
        "important for root-cause analysis. Explain your considerations.\n",
        "1° collected, because is the principal information to understand if the debt was paid.\n",
        "2° disconnection_executed, understand if the method was efficient.\n",
        "3° total_debt, unsderstand how much is the cost of the debt, how the debt increase, the chance of this debt do not be paid increase too.\n",
        "4° regional, we can see difference in bad debt collected by region.\n",
        "5° total_bills, how the bills increase the chance of bad debt don't be payed increase too.\n",
        "\n",
        "– 2. Are there any kind of preprocessing needed for these variables? Do\n",
        "that if so.\n",
        "In Categorical data, is necessary transform strings in number, so the best decision is creat a new columns, with numbers correspondents.\n",
        "\n",
        "\n",
        "(2) - Model development and evaluation\n",
        "\n",
        "\n",
        "A. Model selection\n",
        "– 1. How do you select a Machine Learning model for this task? What\n",
        "kind of variable are you predicting? Select at least 3 different models.\n",
        "\n",
        "Selecting a machine learning model: \n",
        "1° - Search what exist, search in blogs and articles to see if a model was developed to same task.\n",
        "2° - Avaliation of data base, to understand if algorithm process this kind of data is efficiently.\n",
        "3° - Selection of a performance method to avaliate the model.\n",
        "\n",
        "I am trying to predict a binary variable, understanding if the disconnection executed was efficient. \n",
        "\n",
        "LGBM, probabily the best model, because is based in multiples tree evaluations.\n",
        "Logistic regression, good to predict binary variables.\n",
        "Random forest, could be sufficient, is like LGBM, but more simple.\n",
        "\n",
        "– 2. What are the best hyperparameters for these models? Implement a\n",
        "hyperparameters tuning algorithm.\n",
        "\n",
        "\n",
        "– 3. Create train-test splits for your data and implement a cross\n",
        "validation methodology for later evaluation.\n",
        "\n",
        "\n",
        "B. Model evaluation\n",
        "\n",
        "\n",
        "– 1. Which metrics can be used to evaluate the models’ performance?\n",
        "Select at least 4 and explain their meaning briefly. Select the most\n",
        "appropriate one for model comparison.\n",
        "\n",
        "\n",
        "– 2. Based on the cross validation in the training set, which model was\n",
        "more accurate?\n",
        "\n",
        "\n",
        "– 3. Generate predictions for the test split for the best model. Join your\n",
        "predictions with the original info and save a file named\n",
        "“[CANDIDATE_NAME]_PREDICTIONS.CSV”. How much is the\n",
        "success rate for this set?\n",
        "\n",
        "\n",
        "– 4. Which variables were most important for this result? Calculate any\n",
        "kind of feature importance metric.\n",
        "\n",
        "\n",
        "(3) Business sense and technical background\n",
        "\n",
        "\n",
        "A. Business sense\n",
        "– 1. Describe how the client could use the model to improve its debt\n",
        "collection strategy.\n",
        "\n",
        "Creating parameters to decide what kind of disconnection will be executed, to improve the results.\n",
        "\n",
        "– 2. Which additional data you think would most add predictive power to\n",
        "the model? Explain why.\n",
        "\n",
        "Executionn cost, to have a better avaliation of perfomace and date between execution and payment, to undetand if payment was made becouse of disconnection or other cause.\n",
        "\n",
        "– 3. How would you access this data?\n",
        "\n",
        "With SQL, in a relational data base.\n",
        "\n",
        "B. Technical background\n",
        "– 1. How do you avoid overfitting and underfitting in this problem?\n",
        "\n",
        "Cross-validation\n",
        "Train with more data\n",
        "Data augmentation\n",
        "Reduce Complexity or Data Simplification\n",
        "\n",
        "– 2. Explain shortly how you would transfer your model to the client’s IT\n",
        "Department. (Hint: DevOps)\n",
        "\n",
        "1 - Meeting to comunicate and show the conclusion.\n",
        "2 - Develop a documentation about library and versions used to develop this model.\n",
        "3 - Develop a instruction with the steps of development.\n",
        "4 - Sed to client. "
      ]
    },
    {
      "cell_type": "markdown",
      "metadata": {
        "id": "2mj6-ofVWCOV"
      },
      "source": [
        "# A. Exploratory Data Analysis\n",
        "\n",
        "> Bloco com recuo\n",
        "\n"
      ]
    },
    {
      "cell_type": "markdown",
      "metadata": {
        "id": "IlxtEX_1WCOX"
      },
      "source": [
        "**negrito**## 1. Data Preparation and Sanity Check"
      ]
    },
    {
      "cell_type": "markdown",
      "metadata": {
        "id": "fGemEutVWCOX"
      },
      "source": [
        "### 1.1 Library and data Import "
      ]
    },
    {
      "cell_type": "code",
      "execution_count": 2,
      "metadata": {
        "id": "B8almSKvWCOY"
      },
      "outputs": [],
      "source": [
        "import numpy as np\n",
        "import pandas as pd\n",
        "import matplotlib.pyplot as plt\n",
        "import seaborn as sns\n",
        "%matplotlib inline"
      ]
    },
    {
      "cell_type": "code",
      "execution_count": 3,
      "metadata": {
        "id": "HVl1AOi-WCOY"
      },
      "outputs": [],
      "source": [
        "path1 = 'utilities_disconnection.csv'\n",
        "dataset = pd.read_csv(path1, delimiter = ';')"
      ]
    },
    {
      "cell_type": "code",
      "execution_count": 4,
      "metadata": {
        "id": "7CmXrq5UWCOZ",
        "outputId": "cc257b79-617a-4960-e059-4a6748881881",
        "colab": {
          "base_uri": "https://localhost:8080/"
        }
      },
      "outputs": [
        {
          "output_type": "execute_result",
          "data": {
            "text/plain": [
              "(618346, 16)"
            ]
          },
          "metadata": {},
          "execution_count": 4
        }
      ],
      "source": [
        "dataset.shape"
      ]
    },
    {
      "cell_type": "markdown",
      "metadata": {
        "id": "o_nSHZBnWCOZ"
      },
      "source": [
        "### 1.2 Data description"
      ]
    },
    {
      "cell_type": "code",
      "execution_count": 5,
      "metadata": {
        "id": "HuoRxKjeWCOZ",
        "outputId": "348c188d-bdbd-4f0f-97e6-4c8713466c3d",
        "colab": {
          "base_uri": "https://localhost:8080/"
        }
      },
      "outputs": [
        {
          "output_type": "stream",
          "name": "stdout",
          "text": [
            "<class 'pandas.core.frame.DataFrame'>\n",
            "RangeIndex: 618346 entries, 0 to 618345\n",
            "Data columns (total 16 columns):\n",
            " #   Column                   Non-Null Count   Dtype \n",
            "---  ------                   --------------   ----- \n",
            " 0   client_id                618346 non-null  int64 \n",
            " 1   regional                 618346 non-null  int64 \n",
            " 2   site                     618346 non-null  int64 \n",
            " 3   client_class             618346 non-null  int64 \n",
            " 4   client_subclass          618346 non-null  int64 \n",
            " 5   connection_type          618346 non-null  object\n",
            " 6   connection_status        618346 non-null  object\n",
            " 7   installment_value        618346 non-null  object\n",
            " 8   installment_status       247561 non-null  object\n",
            " 9   total_debt               618346 non-null  object\n",
            " 10  total_bills              618346 non-null  int64 \n",
            " 11  disconnection_date       618346 non-null  object\n",
            " 12  disconnection_requested  618346 non-null  object\n",
            " 13  contractor_id            618346 non-null  object\n",
            " 14  disconnection_executed   618346 non-null  object\n",
            " 15  collected                618346 non-null  object\n",
            "dtypes: int64(6), object(10)\n",
            "memory usage: 75.5+ MB\n"
          ]
        }
      ],
      "source": [
        "dataset.info()"
      ]
    },
    {
      "cell_type": "markdown",
      "metadata": {
        "id": "UF2f6WrVWCOa"
      },
      "source": [
        "##### Data Description\n",
        "![image.png](attachment:image.png)"
      ]
    },
    {
      "cell_type": "code",
      "execution_count": 6,
      "metadata": {
        "scrolled": false,
        "id": "lBK2kbvNWCOa",
        "outputId": "78f94802-86c6-4db5-b2f8-64bcc9540178",
        "colab": {
          "base_uri": "https://localhost:8080/",
          "height": 357
        }
      },
      "outputs": [
        {
          "output_type": "execute_result",
          "data": {
            "text/plain": [
              "   client_id  regional   site  client_class  client_subclass  \\\n",
              "0          0         1  13414             1                7   \n",
              "1          1         1  14071             1                1   \n",
              "2          2         1  12380             1                1   \n",
              "3          3         1  14071             1                1   \n",
              "4          4         2  22212             1                1   \n",
              "\n",
              "           connection_type connection_status installment_value  \\\n",
              "0  single-phase connection      disconnected            252,39   \n",
              "1  single-phase connection      disconnected               0,0   \n",
              "2      biphasic connection      disconnected               0,0   \n",
              "3      biphasic connection      disconnected           1317,25   \n",
              "4      biphasic connection      disconnected           2172,29   \n",
              "\n",
              "  installment_status total_debt  total_bills disconnection_date  \\\n",
              "0           complete     662,62            4         2017-03-06   \n",
              "1                NaN    1202,45           17         2017-03-31   \n",
              "2                NaN     352,56            1         2017-03-20   \n",
              "3           complete     699,23            9         2017-03-29   \n",
              "4           complete      484,1            4         2017-03-16   \n",
              "\n",
              "  disconnection_requested contractor_id disconnection_executed collected  \n",
              "0           circuit_break          66,0          circuit_break       0,0  \n",
              "1           circuit_break          73,0          circuit_break       0,0  \n",
              "2           circuit_break          20,0          circuit_break       0,0  \n",
              "3                    pole          73,0                   pole       0,0  \n",
              "4                    pole         156,0          circuit_break       0,0  "
            ],
            "text/html": [
              "\n",
              "  <div id=\"df-30063240-2e7a-4a44-a53c-3b1db85f0c82\">\n",
              "    <div class=\"colab-df-container\">\n",
              "      <div>\n",
              "<style scoped>\n",
              "    .dataframe tbody tr th:only-of-type {\n",
              "        vertical-align: middle;\n",
              "    }\n",
              "\n",
              "    .dataframe tbody tr th {\n",
              "        vertical-align: top;\n",
              "    }\n",
              "\n",
              "    .dataframe thead th {\n",
              "        text-align: right;\n",
              "    }\n",
              "</style>\n",
              "<table border=\"1\" class=\"dataframe\">\n",
              "  <thead>\n",
              "    <tr style=\"text-align: right;\">\n",
              "      <th></th>\n",
              "      <th>client_id</th>\n",
              "      <th>regional</th>\n",
              "      <th>site</th>\n",
              "      <th>client_class</th>\n",
              "      <th>client_subclass</th>\n",
              "      <th>connection_type</th>\n",
              "      <th>connection_status</th>\n",
              "      <th>installment_value</th>\n",
              "      <th>installment_status</th>\n",
              "      <th>total_debt</th>\n",
              "      <th>total_bills</th>\n",
              "      <th>disconnection_date</th>\n",
              "      <th>disconnection_requested</th>\n",
              "      <th>contractor_id</th>\n",
              "      <th>disconnection_executed</th>\n",
              "      <th>collected</th>\n",
              "    </tr>\n",
              "  </thead>\n",
              "  <tbody>\n",
              "    <tr>\n",
              "      <th>0</th>\n",
              "      <td>0</td>\n",
              "      <td>1</td>\n",
              "      <td>13414</td>\n",
              "      <td>1</td>\n",
              "      <td>7</td>\n",
              "      <td>single-phase connection</td>\n",
              "      <td>disconnected</td>\n",
              "      <td>252,39</td>\n",
              "      <td>complete</td>\n",
              "      <td>662,62</td>\n",
              "      <td>4</td>\n",
              "      <td>2017-03-06</td>\n",
              "      <td>circuit_break</td>\n",
              "      <td>66,0</td>\n",
              "      <td>circuit_break</td>\n",
              "      <td>0,0</td>\n",
              "    </tr>\n",
              "    <tr>\n",
              "      <th>1</th>\n",
              "      <td>1</td>\n",
              "      <td>1</td>\n",
              "      <td>14071</td>\n",
              "      <td>1</td>\n",
              "      <td>1</td>\n",
              "      <td>single-phase connection</td>\n",
              "      <td>disconnected</td>\n",
              "      <td>0,0</td>\n",
              "      <td>NaN</td>\n",
              "      <td>1202,45</td>\n",
              "      <td>17</td>\n",
              "      <td>2017-03-31</td>\n",
              "      <td>circuit_break</td>\n",
              "      <td>73,0</td>\n",
              "      <td>circuit_break</td>\n",
              "      <td>0,0</td>\n",
              "    </tr>\n",
              "    <tr>\n",
              "      <th>2</th>\n",
              "      <td>2</td>\n",
              "      <td>1</td>\n",
              "      <td>12380</td>\n",
              "      <td>1</td>\n",
              "      <td>1</td>\n",
              "      <td>biphasic connection</td>\n",
              "      <td>disconnected</td>\n",
              "      <td>0,0</td>\n",
              "      <td>NaN</td>\n",
              "      <td>352,56</td>\n",
              "      <td>1</td>\n",
              "      <td>2017-03-20</td>\n",
              "      <td>circuit_break</td>\n",
              "      <td>20,0</td>\n",
              "      <td>circuit_break</td>\n",
              "      <td>0,0</td>\n",
              "    </tr>\n",
              "    <tr>\n",
              "      <th>3</th>\n",
              "      <td>3</td>\n",
              "      <td>1</td>\n",
              "      <td>14071</td>\n",
              "      <td>1</td>\n",
              "      <td>1</td>\n",
              "      <td>biphasic connection</td>\n",
              "      <td>disconnected</td>\n",
              "      <td>1317,25</td>\n",
              "      <td>complete</td>\n",
              "      <td>699,23</td>\n",
              "      <td>9</td>\n",
              "      <td>2017-03-29</td>\n",
              "      <td>pole</td>\n",
              "      <td>73,0</td>\n",
              "      <td>pole</td>\n",
              "      <td>0,0</td>\n",
              "    </tr>\n",
              "    <tr>\n",
              "      <th>4</th>\n",
              "      <td>4</td>\n",
              "      <td>2</td>\n",
              "      <td>22212</td>\n",
              "      <td>1</td>\n",
              "      <td>1</td>\n",
              "      <td>biphasic connection</td>\n",
              "      <td>disconnected</td>\n",
              "      <td>2172,29</td>\n",
              "      <td>complete</td>\n",
              "      <td>484,1</td>\n",
              "      <td>4</td>\n",
              "      <td>2017-03-16</td>\n",
              "      <td>pole</td>\n",
              "      <td>156,0</td>\n",
              "      <td>circuit_break</td>\n",
              "      <td>0,0</td>\n",
              "    </tr>\n",
              "  </tbody>\n",
              "</table>\n",
              "</div>\n",
              "      <button class=\"colab-df-convert\" onclick=\"convertToInteractive('df-30063240-2e7a-4a44-a53c-3b1db85f0c82')\"\n",
              "              title=\"Convert this dataframe to an interactive table.\"\n",
              "              style=\"display:none;\">\n",
              "        \n",
              "  <svg xmlns=\"http://www.w3.org/2000/svg\" height=\"24px\"viewBox=\"0 0 24 24\"\n",
              "       width=\"24px\">\n",
              "    <path d=\"M0 0h24v24H0V0z\" fill=\"none\"/>\n",
              "    <path d=\"M18.56 5.44l.94 2.06.94-2.06 2.06-.94-2.06-.94-.94-2.06-.94 2.06-2.06.94zm-11 1L8.5 8.5l.94-2.06 2.06-.94-2.06-.94L8.5 2.5l-.94 2.06-2.06.94zm10 10l.94 2.06.94-2.06 2.06-.94-2.06-.94-.94-2.06-.94 2.06-2.06.94z\"/><path d=\"M17.41 7.96l-1.37-1.37c-.4-.4-.92-.59-1.43-.59-.52 0-1.04.2-1.43.59L10.3 9.45l-7.72 7.72c-.78.78-.78 2.05 0 2.83L4 21.41c.39.39.9.59 1.41.59.51 0 1.02-.2 1.41-.59l7.78-7.78 2.81-2.81c.8-.78.8-2.07 0-2.86zM5.41 20L4 18.59l7.72-7.72 1.47 1.35L5.41 20z\"/>\n",
              "  </svg>\n",
              "      </button>\n",
              "      \n",
              "  <style>\n",
              "    .colab-df-container {\n",
              "      display:flex;\n",
              "      flex-wrap:wrap;\n",
              "      gap: 12px;\n",
              "    }\n",
              "\n",
              "    .colab-df-convert {\n",
              "      background-color: #E8F0FE;\n",
              "      border: none;\n",
              "      border-radius: 50%;\n",
              "      cursor: pointer;\n",
              "      display: none;\n",
              "      fill: #1967D2;\n",
              "      height: 32px;\n",
              "      padding: 0 0 0 0;\n",
              "      width: 32px;\n",
              "    }\n",
              "\n",
              "    .colab-df-convert:hover {\n",
              "      background-color: #E2EBFA;\n",
              "      box-shadow: 0px 1px 2px rgba(60, 64, 67, 0.3), 0px 1px 3px 1px rgba(60, 64, 67, 0.15);\n",
              "      fill: #174EA6;\n",
              "    }\n",
              "\n",
              "    [theme=dark] .colab-df-convert {\n",
              "      background-color: #3B4455;\n",
              "      fill: #D2E3FC;\n",
              "    }\n",
              "\n",
              "    [theme=dark] .colab-df-convert:hover {\n",
              "      background-color: #434B5C;\n",
              "      box-shadow: 0px 1px 3px 1px rgba(0, 0, 0, 0.15);\n",
              "      filter: drop-shadow(0px 1px 2px rgba(0, 0, 0, 0.3));\n",
              "      fill: #FFFFFF;\n",
              "    }\n",
              "  </style>\n",
              "\n",
              "      <script>\n",
              "        const buttonEl =\n",
              "          document.querySelector('#df-30063240-2e7a-4a44-a53c-3b1db85f0c82 button.colab-df-convert');\n",
              "        buttonEl.style.display =\n",
              "          google.colab.kernel.accessAllowed ? 'block' : 'none';\n",
              "\n",
              "        async function convertToInteractive(key) {\n",
              "          const element = document.querySelector('#df-30063240-2e7a-4a44-a53c-3b1db85f0c82');\n",
              "          const dataTable =\n",
              "            await google.colab.kernel.invokeFunction('convertToInteractive',\n",
              "                                                     [key], {});\n",
              "          if (!dataTable) return;\n",
              "\n",
              "          const docLinkHtml = 'Like what you see? Visit the ' +\n",
              "            '<a target=\"_blank\" href=https://colab.research.google.com/notebooks/data_table.ipynb>data table notebook</a>'\n",
              "            + ' to learn more about interactive tables.';\n",
              "          element.innerHTML = '';\n",
              "          dataTable['output_type'] = 'display_data';\n",
              "          await google.colab.output.renderOutput(dataTable, element);\n",
              "          const docLink = document.createElement('div');\n",
              "          docLink.innerHTML = docLinkHtml;\n",
              "          element.appendChild(docLink);\n",
              "        }\n",
              "      </script>\n",
              "    </div>\n",
              "  </div>\n",
              "  "
            ]
          },
          "metadata": {},
          "execution_count": 6
        }
      ],
      "source": [
        "dataset.head()"
      ]
    },
    {
      "cell_type": "code",
      "execution_count": 7,
      "metadata": {
        "id": "lMN83eSDWCOb",
        "outputId": "f2b6e7e3-d468-4f5a-d641-ef830ffcf05e",
        "colab": {
          "base_uri": "https://localhost:8080/",
          "height": 300
        }
      },
      "outputs": [
        {
          "output_type": "execute_result",
          "data": {
            "text/plain": [
              "          client_id       regional           site   client_class  \\\n",
              "count  6.183460e+05  618346.000000  618346.000000  618346.000000   \n",
              "mean   4.079352e+05       2.368648   25879.205620       1.155804   \n",
              "std    3.150273e+05       1.131973   11393.975564       0.572867   \n",
              "min    0.000000e+00       1.000000   11170.000000       1.000000   \n",
              "25%    1.412260e+05       1.000000   14071.000000       1.000000   \n",
              "50%    3.214895e+05       2.000000   21081.000000       1.000000   \n",
              "75%    6.306098e+05       4.000000   41572.000000       1.000000   \n",
              "max    1.100749e+06       4.000000   45471.000000       7.000000   \n",
              "\n",
              "       client_subclass    total_bills  \n",
              "count    618346.000000  618346.000000  \n",
              "mean          1.475134       2.477576  \n",
              "std           1.744205       4.479946  \n",
              "min           1.000000       1.000000  \n",
              "25%           1.000000       1.000000  \n",
              "50%           1.000000       1.000000  \n",
              "75%           1.000000       2.000000  \n",
              "max          92.000000     167.000000  "
            ],
            "text/html": [
              "\n",
              "  <div id=\"df-17a8e66a-2bc8-4d88-a54b-b80e0a6892c8\">\n",
              "    <div class=\"colab-df-container\">\n",
              "      <div>\n",
              "<style scoped>\n",
              "    .dataframe tbody tr th:only-of-type {\n",
              "        vertical-align: middle;\n",
              "    }\n",
              "\n",
              "    .dataframe tbody tr th {\n",
              "        vertical-align: top;\n",
              "    }\n",
              "\n",
              "    .dataframe thead th {\n",
              "        text-align: right;\n",
              "    }\n",
              "</style>\n",
              "<table border=\"1\" class=\"dataframe\">\n",
              "  <thead>\n",
              "    <tr style=\"text-align: right;\">\n",
              "      <th></th>\n",
              "      <th>client_id</th>\n",
              "      <th>regional</th>\n",
              "      <th>site</th>\n",
              "      <th>client_class</th>\n",
              "      <th>client_subclass</th>\n",
              "      <th>total_bills</th>\n",
              "    </tr>\n",
              "  </thead>\n",
              "  <tbody>\n",
              "    <tr>\n",
              "      <th>count</th>\n",
              "      <td>6.183460e+05</td>\n",
              "      <td>618346.000000</td>\n",
              "      <td>618346.000000</td>\n",
              "      <td>618346.000000</td>\n",
              "      <td>618346.000000</td>\n",
              "      <td>618346.000000</td>\n",
              "    </tr>\n",
              "    <tr>\n",
              "      <th>mean</th>\n",
              "      <td>4.079352e+05</td>\n",
              "      <td>2.368648</td>\n",
              "      <td>25879.205620</td>\n",
              "      <td>1.155804</td>\n",
              "      <td>1.475134</td>\n",
              "      <td>2.477576</td>\n",
              "    </tr>\n",
              "    <tr>\n",
              "      <th>std</th>\n",
              "      <td>3.150273e+05</td>\n",
              "      <td>1.131973</td>\n",
              "      <td>11393.975564</td>\n",
              "      <td>0.572867</td>\n",
              "      <td>1.744205</td>\n",
              "      <td>4.479946</td>\n",
              "    </tr>\n",
              "    <tr>\n",
              "      <th>min</th>\n",
              "      <td>0.000000e+00</td>\n",
              "      <td>1.000000</td>\n",
              "      <td>11170.000000</td>\n",
              "      <td>1.000000</td>\n",
              "      <td>1.000000</td>\n",
              "      <td>1.000000</td>\n",
              "    </tr>\n",
              "    <tr>\n",
              "      <th>25%</th>\n",
              "      <td>1.412260e+05</td>\n",
              "      <td>1.000000</td>\n",
              "      <td>14071.000000</td>\n",
              "      <td>1.000000</td>\n",
              "      <td>1.000000</td>\n",
              "      <td>1.000000</td>\n",
              "    </tr>\n",
              "    <tr>\n",
              "      <th>50%</th>\n",
              "      <td>3.214895e+05</td>\n",
              "      <td>2.000000</td>\n",
              "      <td>21081.000000</td>\n",
              "      <td>1.000000</td>\n",
              "      <td>1.000000</td>\n",
              "      <td>1.000000</td>\n",
              "    </tr>\n",
              "    <tr>\n",
              "      <th>75%</th>\n",
              "      <td>6.306098e+05</td>\n",
              "      <td>4.000000</td>\n",
              "      <td>41572.000000</td>\n",
              "      <td>1.000000</td>\n",
              "      <td>1.000000</td>\n",
              "      <td>2.000000</td>\n",
              "    </tr>\n",
              "    <tr>\n",
              "      <th>max</th>\n",
              "      <td>1.100749e+06</td>\n",
              "      <td>4.000000</td>\n",
              "      <td>45471.000000</td>\n",
              "      <td>7.000000</td>\n",
              "      <td>92.000000</td>\n",
              "      <td>167.000000</td>\n",
              "    </tr>\n",
              "  </tbody>\n",
              "</table>\n",
              "</div>\n",
              "      <button class=\"colab-df-convert\" onclick=\"convertToInteractive('df-17a8e66a-2bc8-4d88-a54b-b80e0a6892c8')\"\n",
              "              title=\"Convert this dataframe to an interactive table.\"\n",
              "              style=\"display:none;\">\n",
              "        \n",
              "  <svg xmlns=\"http://www.w3.org/2000/svg\" height=\"24px\"viewBox=\"0 0 24 24\"\n",
              "       width=\"24px\">\n",
              "    <path d=\"M0 0h24v24H0V0z\" fill=\"none\"/>\n",
              "    <path d=\"M18.56 5.44l.94 2.06.94-2.06 2.06-.94-2.06-.94-.94-2.06-.94 2.06-2.06.94zm-11 1L8.5 8.5l.94-2.06 2.06-.94-2.06-.94L8.5 2.5l-.94 2.06-2.06.94zm10 10l.94 2.06.94-2.06 2.06-.94-2.06-.94-.94-2.06-.94 2.06-2.06.94z\"/><path d=\"M17.41 7.96l-1.37-1.37c-.4-.4-.92-.59-1.43-.59-.52 0-1.04.2-1.43.59L10.3 9.45l-7.72 7.72c-.78.78-.78 2.05 0 2.83L4 21.41c.39.39.9.59 1.41.59.51 0 1.02-.2 1.41-.59l7.78-7.78 2.81-2.81c.8-.78.8-2.07 0-2.86zM5.41 20L4 18.59l7.72-7.72 1.47 1.35L5.41 20z\"/>\n",
              "  </svg>\n",
              "      </button>\n",
              "      \n",
              "  <style>\n",
              "    .colab-df-container {\n",
              "      display:flex;\n",
              "      flex-wrap:wrap;\n",
              "      gap: 12px;\n",
              "    }\n",
              "\n",
              "    .colab-df-convert {\n",
              "      background-color: #E8F0FE;\n",
              "      border: none;\n",
              "      border-radius: 50%;\n",
              "      cursor: pointer;\n",
              "      display: none;\n",
              "      fill: #1967D2;\n",
              "      height: 32px;\n",
              "      padding: 0 0 0 0;\n",
              "      width: 32px;\n",
              "    }\n",
              "\n",
              "    .colab-df-convert:hover {\n",
              "      background-color: #E2EBFA;\n",
              "      box-shadow: 0px 1px 2px rgba(60, 64, 67, 0.3), 0px 1px 3px 1px rgba(60, 64, 67, 0.15);\n",
              "      fill: #174EA6;\n",
              "    }\n",
              "\n",
              "    [theme=dark] .colab-df-convert {\n",
              "      background-color: #3B4455;\n",
              "      fill: #D2E3FC;\n",
              "    }\n",
              "\n",
              "    [theme=dark] .colab-df-convert:hover {\n",
              "      background-color: #434B5C;\n",
              "      box-shadow: 0px 1px 3px 1px rgba(0, 0, 0, 0.15);\n",
              "      filter: drop-shadow(0px 1px 2px rgba(0, 0, 0, 0.3));\n",
              "      fill: #FFFFFF;\n",
              "    }\n",
              "  </style>\n",
              "\n",
              "      <script>\n",
              "        const buttonEl =\n",
              "          document.querySelector('#df-17a8e66a-2bc8-4d88-a54b-b80e0a6892c8 button.colab-df-convert');\n",
              "        buttonEl.style.display =\n",
              "          google.colab.kernel.accessAllowed ? 'block' : 'none';\n",
              "\n",
              "        async function convertToInteractive(key) {\n",
              "          const element = document.querySelector('#df-17a8e66a-2bc8-4d88-a54b-b80e0a6892c8');\n",
              "          const dataTable =\n",
              "            await google.colab.kernel.invokeFunction('convertToInteractive',\n",
              "                                                     [key], {});\n",
              "          if (!dataTable) return;\n",
              "\n",
              "          const docLinkHtml = 'Like what you see? Visit the ' +\n",
              "            '<a target=\"_blank\" href=https://colab.research.google.com/notebooks/data_table.ipynb>data table notebook</a>'\n",
              "            + ' to learn more about interactive tables.';\n",
              "          element.innerHTML = '';\n",
              "          dataTable['output_type'] = 'display_data';\n",
              "          await google.colab.output.renderOutput(dataTable, element);\n",
              "          const docLink = document.createElement('div');\n",
              "          docLink.innerHTML = docLinkHtml;\n",
              "          element.appendChild(docLink);\n",
              "        }\n",
              "      </script>\n",
              "    </div>\n",
              "  </div>\n",
              "  "
            ]
          },
          "metadata": {},
          "execution_count": 7
        }
      ],
      "source": [
        "dataset.describe()"
      ]
    },
    {
      "cell_type": "markdown",
      "metadata": {
        "id": "d2C4GlKJWCOb"
      },
      "source": [
        "### 1.3 Null data manipulation"
      ]
    },
    {
      "cell_type": "code",
      "execution_count": 8,
      "metadata": {
        "scrolled": false,
        "id": "ITWlSQRoWCOb",
        "outputId": "f186726a-cc3b-41fe-c070-6fae37f40fa4",
        "colab": {
          "base_uri": "https://localhost:8080/",
          "height": 1000
        }
      },
      "outputs": [
        {
          "output_type": "display_data",
          "data": {
            "text/plain": [
              "<Figure size 1800x1440 with 1 Axes>"
            ],
            "image/png": "[encoded data removed]"
          },
          "metadata": {
            "needs_background": "light"
          }
        }
      ],
      "source": [
        "plt.figure(figsize=(25,20))\n",
        "sns.heatmap(dataset.isnull(),\n",
        "           yticklabels=0,\n",
        "           cbar=False)\n",
        "plt.title('Visão Geral dos Valores Faltantes')\n",
        "plt.xlabel('atributos')\n",
        "plt.show()"
      ]
    },
    {
      "cell_type": "code",
      "execution_count": 9,
      "metadata": {
        "id": "vepozf_nWCOb",
        "outputId": "ac0d1155-e813-431f-f718-900f784afdd2",
        "colab": {
          "base_uri": "https://localhost:8080/"
        }
      },
      "outputs": [
        {
          "output_type": "execute_result",
          "data": {
            "text/plain": [
              "complete    227701\n",
              "current      19860\n",
              "Name: installment_status, dtype: int64"
            ]
          },
          "metadata": {},
          "execution_count": 9
        }
      ],
      "source": [
        "dataset['installment_status'].value_counts()"
      ]
    },
    {
      "cell_type": "markdown",
      "metadata": {
        "id": "ZyLyC6I5WCOb"
      },
      "source": [
        "##### Observations about null data\n",
        "(1) installment_status have mostly null datas, but is possible indentify that this null data is equal Not Applicable, how is in description. \n",
        "This value is part of debt history, so could be important to model decision"
      ]
    },
    {
      "cell_type": "code",
      "execution_count": 10,
      "metadata": {
        "id": "1TbQ7MYlWCOc"
      },
      "outputs": [],
      "source": [
        "#substituing the null value for \"Not Aplicabble\"\n",
        "dataset['installment_status'].fillna(\"Not Aplicabble\", inplace = True)"
      ]
    },
    {
      "cell_type": "code",
      "execution_count": 11,
      "metadata": {
        "id": "tVBALxCRWCOc",
        "outputId": "3d2121fe-95f5-4f28-f67b-47f88635c218",
        "colab": {
          "base_uri": "https://localhost:8080/"
        }
      },
      "outputs": [
        {
          "output_type": "stream",
          "name": "stdout",
          "text": [
            "<class 'pandas.core.frame.DataFrame'>\n",
            "RangeIndex: 618346 entries, 0 to 618345\n",
            "Data columns (total 16 columns):\n",
            " #   Column                   Non-Null Count   Dtype \n",
            "---  ------                   --------------   ----- \n",
            " 0   client_id                618346 non-null  int64 \n",
            " 1   regional                 618346 non-null  int64 \n",
            " 2   site                     618346 non-null  int64 \n",
            " 3   client_class             618346 non-null  int64 \n",
            " 4   client_subclass          618346 non-null  int64 \n",
            " 5   connection_type          618346 non-null  object\n",
            " 6   connection_status        618346 non-null  object\n",
            " 7   installment_value        618346 non-null  object\n",
            " 8   installment_status       618346 non-null  object\n",
            " 9   total_debt               618346 non-null  object\n",
            " 10  total_bills              618346 non-null  int64 \n",
            " 11  disconnection_date       618346 non-null  object\n",
            " 12  disconnection_requested  618346 non-null  object\n",
            " 13  contractor_id            618346 non-null  object\n",
            " 14  disconnection_executed   618346 non-null  object\n",
            " 15  collected                618346 non-null  object\n",
            "dtypes: int64(6), object(10)\n",
            "memory usage: 75.5+ MB\n"
          ]
        }
      ],
      "source": [
        "dataset.info()"
      ]
    },
    {
      "cell_type": "markdown",
      "metadata": {
        "id": "BpQ5HJZgWCOc"
      },
      "source": [
        "### 1.4 Categorical data"
      ]
    },
    {
      "cell_type": "markdown",
      "metadata": {
        "id": "POyZVfh1WCOc"
      },
      "source": [
        "#### 1.4.1 Regional data"
      ]
    },
    {
      "cell_type": "code",
      "execution_count": 12,
      "metadata": {
        "id": "6jpnGYJ6WCOc",
        "outputId": "b8747b8c-1084-4822-af9e-b738237f9696",
        "colab": {
          "base_uri": "https://localhost:8080/",
          "height": 0
        }
      },
      "outputs": [
        {
          "output_type": "execute_result",
          "data": {
            "text/plain": [
              "Text(0, 0.5, 'Bills Qty')"
            ]
          },
          "metadata": {},
          "execution_count": 12
        },
        {
          "output_type": "display_data",
          "data": {
            "text/plain": [
              "<Figure size 1080x360 with 1 Axes>"
            ],
            "image/png": "[encoded data removed]"
          },
          "metadata": {
            "needs_background": "light"
          }
        }
      ],
      "source": [
        "plt.figure(figsize=(15,5))\n",
        "graph=sns.countplot(x='regional', hue= 'collected',\n",
        "                data=dataset,\n",
        "                order=dataset['regional'].value_counts().index)\n",
        "graph.set_xlabel('regional')\n",
        "graph.set_ylabel('Bills Qty')"
      ]
    },
    {
      "cell_type": "markdown",
      "metadata": {
        "id": "Puby7SIvWCOc"
      },
      "source": [
        "1 - This is a kind of data that can be desconsidered, to avoid a regional determinism, but is possible see the difference between regions. "
      ]
    },
    {
      "cell_type": "code",
      "execution_count": 13,
      "metadata": {
        "id": "4ReB2KkYWCOc",
        "outputId": "0855eaba-cb6a-4f13-afed-7562ec4b14dd",
        "colab": {
          "base_uri": "https://localhost:8080/"
        }
      },
      "outputs": [
        {
          "output_type": "execute_result",
          "data": {
            "text/plain": [
              "2    249786\n",
              "4    169266\n",
              "1    154937\n",
              "3     44357\n",
              "Name: regional, dtype: int64"
            ]
          },
          "metadata": {},
          "execution_count": 13
        }
      ],
      "source": [
        "dataset['regional'].value_counts()"
      ]
    },
    {
      "cell_type": "code",
      "execution_count": 14,
      "metadata": {
        "id": "WQZVk0DvWCOc",
        "outputId": "262301f7-f60b-40b9-ca6e-c2b7b4cedc3b",
        "colab": {
          "base_uri": "https://localhost:8080/"
        }
      },
      "outputs": [
        {
          "output_type": "execute_result",
          "data": {
            "text/plain": [
              "21021    63600\n",
              "41572    45827\n",
              "21061    38048\n",
              "14071    34526\n",
              "14010    33670\n",
              "         ...  \n",
              "31042       13\n",
              "33151       12\n",
              "11193       10\n",
              "13292        8\n",
              "41302        7\n",
              "Name: site, Length: 155, dtype: int64"
            ]
          },
          "metadata": {},
          "execution_count": 14
        }
      ],
      "source": [
        "dataset['site'].value_counts()"
      ]
    },
    {
      "cell_type": "markdown",
      "metadata": {
        "id": "st-5aGr6WCOd"
      },
      "source": [
        "#### 1.4.2 Class data"
      ]
    },
    {
      "cell_type": "code",
      "execution_count": 15,
      "metadata": {
        "scrolled": false,
        "id": "B60CIvriWCOd",
        "outputId": "f963559d-1c7d-4f52-de8b-adad07faccaf",
        "colab": {
          "base_uri": "https://localhost:8080/",
          "height": 0
        }
      },
      "outputs": [
        {
          "output_type": "execute_result",
          "data": {
            "text/plain": [
              "Text(0, 0.5, 'Bills Qty')"
            ]
          },
          "metadata": {},
          "execution_count": 15
        },
        {
          "output_type": "display_data",
          "data": {
            "text/plain": [
              "<Figure size 1080x360 with 1 Axes>"
            ],
            "image/png": "[encoded data removed]"
          },
          "metadata": {
            "needs_background": "light"
          }
        }
      ],
      "source": [
        "plt.figure(figsize=(15,5))\n",
        "graph=sns.countplot(x='client_class',hue = 'collected',\n",
        "                data=dataset,\n",
        "                order=dataset['client_class'].value_counts().index)\n",
        "graph.set_xlabel('client_class')\n",
        "graph.set_ylabel('Bills Qty')"
      ]
    },
    {
      "cell_type": "code",
      "execution_count": 16,
      "metadata": {
        "scrolled": false,
        "id": "Pd3FvlnDWCOd",
        "outputId": "9c1a7da8-e75d-4da3-a1b8-9ef8e79ac86b",
        "colab": {
          "base_uri": "https://localhost:8080/",
          "height": 0
        }
      },
      "outputs": [
        {
          "output_type": "execute_result",
          "data": {
            "text/plain": [
              "Text(0, 0.5, 'Bills Qty')"
            ]
          },
          "metadata": {},
          "execution_count": 16
        },
        {
          "output_type": "display_data",
          "data": {
            "text/plain": [
              "<Figure size 1080x360 with 1 Axes>"
            ],
            "image/png": "[encoded data removed]"
          },
          "metadata": {
            "needs_background": "light"
          }
        }
      ],
      "source": [
        "plt.figure(figsize=(15,5))\n",
        "graph=sns.countplot(x='client_subclass',hue = 'collected',\n",
        "                data=dataset,\n",
        "                order=dataset['client_subclass'].value_counts().index)\n",
        "graph.set_xlabel('client_subclass')\n",
        "graph.set_ylabel('Bills Qty')"
      ]
    },
    {
      "cell_type": "markdown",
      "metadata": {
        "id": "aNtKF_GmWCOd"
      },
      "source": [
        "#### 1.4.3 connection data"
      ]
    },
    {
      "cell_type": "code",
      "execution_count": 17,
      "metadata": {
        "scrolled": true,
        "id": "N0tX6vzoWCOd",
        "outputId": "bb7bd23c-d1f1-4cb6-82df-626df3691959",
        "colab": {
          "base_uri": "https://localhost:8080/",
          "height": 0
        }
      },
      "outputs": [
        {
          "output_type": "execute_result",
          "data": {
            "text/plain": [
              "Text(0, 0.5, 'Bills Qty')"
            ]
          },
          "metadata": {},
          "execution_count": 17
        },
        {
          "output_type": "display_data",
          "data": {
            "text/plain": [
              "<Figure size 1080x360 with 1 Axes>"
            ],
            "image/png": "[encoded data removed]"
          },
          "metadata": {
            "needs_background": "light"
          }
        }
      ],
      "source": [
        "plt.figure(figsize=(15,5))\n",
        "graph=sns.countplot(x='connection_type',hue = 'collected',\n",
        "                data=dataset,\n",
        "                order=dataset['connection_type'].value_counts().index)\n",
        "graph.set_xlabel('connection_type')\n",
        "graph.set_ylabel('Bills Qty')"
      ]
    },
    {
      "cell_type": "code",
      "execution_count": 18,
      "metadata": {
        "id": "IbWyGB_jWCOd"
      },
      "outputs": [],
      "source": [
        "dataset['connection_type_num'] = dataset['connection_type'].map({\"single-phase connection\":\"1\",\"biphasic connection\":\"2\",\"three-phase connection\":\"3\"})"
      ]
    },
    {
      "cell_type": "markdown",
      "metadata": {
        "id": "RWifs9s9WCOd"
      },
      "source": [
        "## 1 - Single-phase\n",
        "## 2 - biphasic\n",
        "## 3 - three-phase"
      ]
    },
    {
      "cell_type": "code",
      "execution_count": 19,
      "metadata": {
        "id": "qMJ5sYi3WCOd",
        "outputId": "930ea7fa-3fe0-4f0a-d59c-7a8be58b41c0",
        "colab": {
          "base_uri": "https://localhost:8080/",
          "height": 352
        }
      },
      "outputs": [
        {
          "output_type": "execute_result",
          "data": {
            "text/plain": [
              "Text(0, 0.5, 'Bills Qty')"
            ]
          },
          "metadata": {},
          "execution_count": 19
        },
        {
          "output_type": "display_data",
          "data": {
            "text/plain": [
              "<Figure size 1080x360 with 1 Axes>"
            ],
            "image/png": "[encoded data removed]"
          },
          "metadata": {
            "needs_background": "light"
          }
        }
      ],
      "source": [
        "plt.figure(figsize=(15,5))\n",
        "graph=sns.countplot(x='connection_type_num',hue = 'collected',\n",
        "                data=dataset,\n",
        "                order=dataset['connection_type_num'].value_counts().index)\n",
        "graph.set_xlabel('connection_type_num')\n",
        "graph.set_ylabel('Bills Qty')"
      ]
    },
    {
      "cell_type": "code",
      "execution_count": 20,
      "metadata": {
        "id": "CLXnn_5uWCOe",
        "outputId": "39475597-38df-4cd7-b4ee-2735b675f930",
        "colab": {
          "base_uri": "https://localhost:8080/",
          "height": 352
        }
      },
      "outputs": [
        {
          "output_type": "execute_result",
          "data": {
            "text/plain": [
              "Text(0, 0.5, 'Bills Qty')"
            ]
          },
          "metadata": {},
          "execution_count": 20
        },
        {
          "output_type": "display_data",
          "data": {
            "text/plain": [
              "<Figure size 1080x360 with 1 Axes>"
            ],
            "image/png": "[encoded data removed]"
          },
          "metadata": {
            "needs_background": "light"
          }
        }
      ],
      "source": [
        "plt.figure(figsize=(15,5))\n",
        "graph=sns.countplot(x='connection_status',hue = 'collected',\n",
        "                data=dataset,\n",
        "                order=dataset['connection_status'].value_counts().index)\n",
        "graph.set_xlabel('connection_status')\n",
        "graph.set_ylabel('Bills Qty')"
      ]
    },
    {
      "cell_type": "code",
      "execution_count": 21,
      "metadata": {
        "id": "yTqwiP4OWCOe",
        "outputId": "2923e2b9-57c4-47db-9ee4-3033777afbd4",
        "colab": {
          "base_uri": "https://localhost:8080/"
        }
      },
      "outputs": [
        {
          "output_type": "execute_result",
          "data": {
            "text/plain": [
              "connected       313021\n",
              "disconnected    305325\n",
              "Name: connection_status, dtype: int64"
            ]
          },
          "metadata": {},
          "execution_count": 21
        }
      ],
      "source": [
        "#This is a category binary condition #homogeneous distribution\n",
        "dataset['connection_status'].value_counts()"
      ]
    },
    {
      "cell_type": "code",
      "execution_count": 22,
      "metadata": {
        "id": "H5rDqZ02WCOe"
      },
      "outputs": [],
      "source": [
        "dataset['connection_status_num'] =  dataset['connection_status'].map({\"connected\":\"1\",\"disconnected\":\"0\"}).astype(int)"
      ]
    },
    {
      "cell_type": "code",
      "execution_count": 23,
      "metadata": {
        "id": "4bV6ngaqWCOe",
        "outputId": "3f5b7ceb-0658-491a-8093-b66c1f454d0a",
        "colab": {
          "base_uri": "https://localhost:8080/",
          "height": 352
        }
      },
      "outputs": [
        {
          "output_type": "execute_result",
          "data": {
            "text/plain": [
              "Text(0, 0.5, 'Bills Qty')"
            ]
          },
          "metadata": {},
          "execution_count": 23
        },
        {
          "output_type": "display_data",
          "data": {
            "text/plain": [
              "<Figure size 1080x360 with 1 Axes>"
            ],
            "image/png": "[encoded data removed]"
          },
          "metadata": {
            "needs_background": "light"
          }
        }
      ],
      "source": [
        "plt.figure(figsize=(15,5))\n",
        "graph=sns.countplot(x='connection_status_num',\n",
        "                data=dataset,\n",
        "                order=dataset['connection_status_num'].value_counts().index)\n",
        "graph.set_xlabel('connection_status_num')\n",
        "graph.set_ylabel('Bills Qty')"
      ]
    },
    {
      "cell_type": "markdown",
      "metadata": {
        "id": "8wCz6usfWCOe"
      },
      "source": [
        "#### 0 - connected\n",
        "#### 1 - disconnected"
      ]
    },
    {
      "cell_type": "code",
      "execution_count": 24,
      "metadata": {
        "scrolled": true,
        "id": "aW2ARklUWCOe",
        "outputId": "be687e04-06d0-485d-83ed-87ca1d15fca0",
        "colab": {
          "base_uri": "https://localhost:8080/"
        }
      },
      "outputs": [
        {
          "output_type": "stream",
          "name": "stdout",
          "text": [
            "Bad debt by connection status 0  is :  98.86 % || Absolut bad debt : 48.82\n",
            "Bad debt by connection status 1  is :  84.55 % || Absolut bad debt : 42.8\n"
          ]
        }
      ],
      "source": [
        "for i in range(dataset['connection_status_num'].unique().shape[0]):\n",
        "    neg=dataset[dataset['connection_status_num']==i]['collected'].value_counts()[0]\n",
        "    pos=dataset[dataset['connection_status_num']==i]['collected'].value_counts()[1]\n",
        "    total=pos+neg\n",
        "    print(\"Bad debt by connection status\",i,\" is : \",round(neg/total*100,2),\"% || Absolut bad debt :\",round(neg/dataset['connection_status'].shape[0]*100,2))"
      ]
    },
    {
      "cell_type": "markdown",
      "metadata": {
        "id": "OlZPOFjlWCOe"
      },
      "source": [
        "#### 1.4.4 installment data"
      ]
    },
    {
      "cell_type": "code",
      "execution_count": 25,
      "metadata": {
        "scrolled": true,
        "id": "YuluSvLiWCOe",
        "outputId": "07d22da7-5fce-4ffa-f815-23afee60274f",
        "colab": {
          "base_uri": "https://localhost:8080/",
          "height": 0
        }
      },
      "outputs": [
        {
          "output_type": "execute_result",
          "data": {
            "text/plain": [
              "Text(0, 0.5, 'Bills Qty')"
            ]
          },
          "metadata": {},
          "execution_count": 25
        },
        {
          "output_type": "display_data",
          "data": {
            "text/plain": [
              "<Figure size 1080x360 with 1 Axes>"
            ],
            "image/png": "[encoded data removed]"
          },
          "metadata": {
            "needs_background": "light"
          }
        }
      ],
      "source": [
        "plt.figure(figsize=(15,5))\n",
        "graph=sns.countplot(x='installment_status',hue = 'collected',\n",
        "                data=dataset,\n",
        "                order=dataset['installment_status'].value_counts().index)\n",
        "graph.set_xlabel('installment_status')\n",
        "graph.set_ylabel('Bills Qty')"
      ]
    },
    {
      "cell_type": "code",
      "execution_count": 26,
      "metadata": {
        "id": "E-5z3ub_WCOe"
      },
      "outputs": [],
      "source": [
        "dataset['installment_status_num'] =  dataset['installment_status'].map({\"Not Aplicabble\":\"0\",\"current\":\"1\", \"complete\":\"2\"}).astype(int)"
      ]
    },
    {
      "cell_type": "code",
      "execution_count": 27,
      "metadata": {
        "id": "XnNMQXUBWCOe",
        "outputId": "d8ad56ad-854f-489a-99be-15ac129f4422",
        "colab": {
          "base_uri": "https://localhost:8080/",
          "height": 0
        }
      },
      "outputs": [
        {
          "output_type": "execute_result",
          "data": {
            "text/plain": [
              "Text(0, 0.5, 'Bills Qty')"
            ]
          },
          "metadata": {},
          "execution_count": 27
        },
        {
          "output_type": "display_data",
          "data": {
            "text/plain": [
              "<Figure size 1080x360 with 1 Axes>"
            ],
            "image/png": "[encoded data removed]"
          },
          "metadata": {
            "needs_background": "light"
          }
        }
      ],
      "source": [
        "plt.figure(figsize=(15,5))\n",
        "graph=sns.countplot(x='installment_status_num',\n",
        "                data=dataset,\n",
        "                order=dataset['installment_status_num'].value_counts().index)\n",
        "graph.set_xlabel('installment_status_num')\n",
        "graph.set_ylabel('Bills Qty')"
      ]
    },
    {
      "cell_type": "markdown",
      "metadata": {
        "id": "-A1_YB3KWCOe"
      },
      "source": [
        "#### 1.4.3 disconnection data"
      ]
    },
    {
      "cell_type": "code",
      "execution_count": 28,
      "metadata": {
        "scrolled": true,
        "id": "0UdqRu7RWCOf",
        "outputId": "a43a7567-6400-475d-8518-ee369a9055d5",
        "colab": {
          "base_uri": "https://localhost:8080/",
          "height": 0
        }
      },
      "outputs": [
        {
          "output_type": "execute_result",
          "data": {
            "text/plain": [
              "Text(0, 0.5, 'Bills Qty')"
            ]
          },
          "metadata": {},
          "execution_count": 28
        },
        {
          "output_type": "display_data",
          "data": {
            "text/plain": [
              "<Figure size 1080x360 with 1 Axes>"
            ],
            "image/png": "[encoded data removed]"
          },
          "metadata": {
            "needs_background": "light"
          }
        }
      ],
      "source": [
        "plt.figure(figsize=(15,5))\n",
        "graph=sns.countplot(x='disconnection_requested',hue = 'collected',\n",
        "                data=dataset,\n",
        "                order=dataset['disconnection_requested'].value_counts().index)\n",
        "graph.set_xlabel('disconnection_requested')\n",
        "graph.set_ylabel('Bills Qty')"
      ]
    },
    {
      "cell_type": "markdown",
      "metadata": {
        "id": "d7yAx-TZWCOf"
      },
      "source": [
        "How the data of disconnection execution is most important, the data of disconnection resquested don't have relevance to model decision "
      ]
    },
    {
      "cell_type": "code",
      "execution_count": 29,
      "metadata": {
        "scrolled": false,
        "id": "FyTE6MwjWCOf",
        "outputId": "afaefd75-b67b-48df-a072-77cf4ab186c9",
        "colab": {
          "base_uri": "https://localhost:8080/",
          "height": 0
        }
      },
      "outputs": [
        {
          "output_type": "execute_result",
          "data": {
            "text/plain": [
              "Text(0, 0.5, 'Bills Qty')"
            ]
          },
          "metadata": {},
          "execution_count": 29
        },
        {
          "output_type": "display_data",
          "data": {
            "text/plain": [
              "<Figure size 1080x360 with 1 Axes>"
            ],
            "image/png": "[encoded data removed]"
          },
          "metadata": {
            "needs_background": "light"
          }
        }
      ],
      "source": [
        "plt.figure(figsize=(15,5))\n",
        "graph=sns.countplot(x='disconnection_executed',hue = 'collected',\n",
        "                data=dataset,\n",
        "                order=dataset['disconnection_executed'].value_counts().index)\n",
        "graph.set_xlabel('disconnection_executed')\n",
        "graph.set_ylabel('Bills Qty')"
      ]
    },
    {
      "cell_type": "code",
      "execution_count": 30,
      "metadata": {
        "id": "bWSXmZvkWCOf"
      },
      "outputs": [],
      "source": [
        "dataset['disconnection_executed_num'] =  dataset['disconnection_executed'].map({\"circuit_break\":\"4\",\"pole\":\"3\", \"branch\":\"2\",\"remote\":\"1\"}).astype(int)"
      ]
    },
    {
      "cell_type": "code",
      "execution_count": 31,
      "metadata": {
        "id": "1oiye2JWWCOf",
        "outputId": "65d304fa-b938-42be-fd86-e82bb7dffea1",
        "colab": {
          "base_uri": "https://localhost:8080/",
          "height": 0
        }
      },
      "outputs": [
        {
          "output_type": "execute_result",
          "data": {
            "text/plain": [
              "Text(0, 0.5, 'Bills Qty')"
            ]
          },
          "metadata": {},
          "execution_count": 31
        },
        {
          "output_type": "display_data",
          "data": {
            "text/plain": [
              "<Figure size 1080x360 with 1 Axes>"
            ],
            "image/png": "[encoded data removed]"
          },
          "metadata": {
            "needs_background": "light"
          }
        }
      ],
      "source": [
        "plt.figure(figsize=(15,5))\n",
        "graph=sns.countplot(x='disconnection_executed_num',hue = 'collected',\n",
        "                data=dataset,\n",
        "                order=dataset['disconnection_executed_num'].value_counts().index)\n",
        "graph.set_xlabel('disconnection_executed_num')\n",
        "graph.set_ylabel('Bills Qty')"
      ]
    },
    {
      "cell_type": "markdown",
      "metadata": {
        "id": "zts7Gzl1WCOf"
      },
      "source": [
        "##### increasing order of complexity and aggressiveness:\n",
        "\n",
        "###### 4 - circuit break\n",
        "###### 3 - pole\n",
        "###### 2 - branch\n",
        "###### 1 - remote"
      ]
    },
    {
      "cell_type": "markdown",
      "metadata": {
        "id": "0lfpHZ6-WCOf"
      },
      "source": [
        "#### less  complexity and aggressiveness is better"
      ]
    },
    {
      "cell_type": "markdown",
      "metadata": {
        "id": "eOna8XX7WCOf"
      },
      "source": [
        "### 1.6.3 total bills data"
      ]
    },
    {
      "cell_type": "code",
      "execution_count": 32,
      "metadata": {
        "scrolled": false,
        "id": "OXZWtbfWWCOf",
        "outputId": "bbbf686b-bdab-4ecb-b4e5-47ac8cd6bd2b",
        "colab": {
          "base_uri": "https://localhost:8080/",
          "height": 0
        }
      },
      "outputs": [
        {
          "output_type": "execute_result",
          "data": {
            "text/plain": [
              "Text(0, 0.5, 'Bills Qty')"
            ]
          },
          "metadata": {},
          "execution_count": 32
        },
        {
          "output_type": "display_data",
          "data": {
            "text/plain": [
              "<Figure size 1080x360 with 1 Axes>"
            ],
            "image/png": "[encoded data removed]"
          },
          "metadata": {
            "needs_background": "light"
          }
        }
      ],
      "source": [
        "plt.figure(figsize=(15,5))\n",
        "graph=sns.countplot(x='total_bills',hue = 'collected',\n",
        "                data=dataset,\n",
        "                order=dataset['total_bills'].value_counts().index)\n",
        "graph.set_xlabel('total_bills')\n",
        "graph.set_ylabel('Bills Qty')"
      ]
    },
    {
      "cell_type": "markdown",
      "metadata": {
        "id": "JG8I1lzSWCOf"
      },
      "source": [
        "### 1.5 binary data"
      ]
    },
    {
      "cell_type": "code",
      "execution_count": 33,
      "metadata": {
        "id": "gT3TCvQlWCOf",
        "outputId": "16d963d8-da4a-4956-c2cb-2c3466cb9dc5",
        "colab": {
          "base_uri": "https://localhost:8080/"
        }
      },
      "outputs": [
        {
          "output_type": "execute_result",
          "data": {
            "text/plain": [
              "0,0    350230\n",
              "1,0    268116\n",
              "Name: collected, dtype: int64"
            ]
          },
          "metadata": {},
          "execution_count": 33
        }
      ],
      "source": [
        "#This is a binary condition \n",
        "dataset['collected'].value_counts()"
      ]
    },
    {
      "cell_type": "markdown",
      "metadata": {
        "id": "csM5o1qGWCOf"
      },
      "source": [
        "This is a binary condition and the most important value to machine learning"
      ]
    },
    {
      "cell_type": "markdown",
      "metadata": {
        "id": "NxpPZ7ZiWCOf"
      },
      "source": [
        "## 1.6 continuous data"
      ]
    },
    {
      "cell_type": "markdown",
      "metadata": {
        "id": "uZMvWTffWCOf"
      },
      "source": [
        "### 1.6.1 Substuing \",\" by \".\""
      ]
    },
    {
      "cell_type": "code",
      "execution_count": 34,
      "metadata": {
        "id": "1hDi2L7XWCOf"
      },
      "outputs": [],
      "source": [
        "dataset['collected'] = dataset['collected'].replace(\",\",\".\",regex=True).astype(float)\n",
        "dataset['installment_value'] = dataset['installment_value'].replace(\",\",\".\",regex=True).astype(float)\n",
        "dataset['total_debt'] = dataset['total_debt'].replace(\",\",\".\",regex=True).astype(float)\n",
        "dataset['disconnection_date'] = pd.to_datetime(dataset['disconnection_date'])"
      ]
    },
    {
      "cell_type": "markdown",
      "metadata": {
        "id": "DkELnDIoWCOg"
      },
      "source": [
        "### 1.6.2 intasllment data"
      ]
    },
    {
      "cell_type": "code",
      "execution_count": 35,
      "metadata": {
        "id": "VXQsHqudWCOg",
        "outputId": "7a22f059-68d0-4144-a8a1-a717053499bf",
        "colab": {
          "base_uri": "https://localhost:8080/"
        }
      },
      "outputs": [
        {
          "output_type": "execute_result",
          "data": {
            "text/plain": [
              "0          252.39\n",
              "1            0.00\n",
              "2            0.00\n",
              "3         1317.25\n",
              "4         2172.29\n",
              "           ...   \n",
              "618341       0.00\n",
              "618342       0.00\n",
              "618343     360.45\n",
              "618344     665.38\n",
              "618345     387.36\n",
              "Name: installment_value, Length: 618346, dtype: float64"
            ]
          },
          "metadata": {},
          "execution_count": 35
        }
      ],
      "source": [
        "dataset['installment_value'].replace(\",\",\".\",regex=True)"
      ]
    },
    {
      "cell_type": "code",
      "execution_count": 36,
      "metadata": {
        "scrolled": true,
        "id": "u58fiI_sWCOg",
        "outputId": "4c22c204-d7e7-4218-e37d-675ba4f19568",
        "colab": {
          "base_uri": "https://localhost:8080/",
          "height": 0
        }
      },
      "outputs": [
        {
          "output_type": "display_data",
          "data": {
            "text/plain": [
              "<Figure size 1440x216 with 1 Axes>"
            ],
            "image/png": "[encoded data removed]"
          },
          "metadata": {
            "needs_background": "light"
          }
        }
      ],
      "source": [
        "plt.figure(figsize=(20,3))\n",
        "ax = sns.boxplot(data=dataset[\"installment_value\"].replace(\",\",\".\",regex=True), orient=\"h\", palette=\"Set2\")"
      ]
    },
    {
      "cell_type": "code",
      "execution_count": 37,
      "metadata": {
        "id": "eZMMBG-TWCOg",
        "outputId": "77ae200b-f89e-40a4-c228-c8f11b6bd1d8",
        "colab": {
          "base_uri": "https://localhost:8080/",
          "height": 0
        }
      },
      "outputs": [
        {
          "output_type": "execute_result",
          "data": {
            "text/plain": [
              "(0.0, 1000.0)"
            ]
          },
          "metadata": {},
          "execution_count": 37
        },
        {
          "output_type": "display_data",
          "data": {
            "text/plain": [
              "<Figure size 1440x216 with 1 Axes>"
            ],
            "image/png": "[encoded data removed]"
          },
          "metadata": {
            "needs_background": "light"
          }
        }
      ],
      "source": [
        "plt.figure(figsize=(20,3))\n",
        "ax = sns.boxplot(data=dataset[\"installment_value\"].replace(\",\",\".\",regex=True), orient=\"h\", palette=\"Set2\")\n",
        "plt.xlim(0, 1000)"
      ]
    },
    {
      "cell_type": "code",
      "execution_count": 38,
      "metadata": {
        "id": "aXUcBMMEWCOg"
      },
      "outputs": [],
      "source": [
        "dataset[\"installment_value\"] = dataset[\"installment_value\"].replace(\",\",\".\",regex=True)"
      ]
    },
    {
      "cell_type": "code",
      "execution_count": 39,
      "metadata": {
        "id": "cHgaXXwDWCOg"
      },
      "outputs": [],
      "source": [
        "#cleaning outliers\n",
        "dataset.drop(dataset[dataset.installment_value > 600].index,axis =0, inplace = True)"
      ]
    },
    {
      "cell_type": "markdown",
      "metadata": {
        "id": "p2vIyDaGWCOg"
      },
      "source": [
        "### 1.6.3 total debt data"
      ]
    },
    {
      "cell_type": "code",
      "execution_count": 40,
      "metadata": {
        "id": "1c8YIi_7WCOg",
        "outputId": "86ad836f-c74a-4b4b-a029-6760f39311e8",
        "colab": {
          "base_uri": "https://localhost:8080/",
          "height": 0
        }
      },
      "outputs": [
        {
          "output_type": "display_data",
          "data": {
            "text/plain": [
              "<Figure size 1440x216 with 1 Axes>"
            ],
            "image/png": "[encoded data removed]"
          },
          "metadata": {
            "needs_background": "light"
          }
        }
      ],
      "source": [
        "plt.figure(figsize=(20,3))\n",
        "ax = sns.boxplot(data=dataset[\"total_debt\"].replace(\",\",\".\",regex=True), orient=\"h\", palette=\"Set2\")"
      ]
    },
    {
      "cell_type": "code",
      "execution_count": 41,
      "metadata": {
        "id": "qiqOqr_4WCOg",
        "outputId": "325beed3-b440-4006-852a-33050efa07d7",
        "colab": {
          "base_uri": "https://localhost:8080/",
          "height": 0
        }
      },
      "outputs": [
        {
          "output_type": "execute_result",
          "data": {
            "text/plain": [
              "(0.0, 1000.0)"
            ]
          },
          "metadata": {},
          "execution_count": 41
        },
        {
          "output_type": "display_data",
          "data": {
            "text/plain": [
              "<Figure size 1440x216 with 1 Axes>"
            ],
            "image/png": "[encoded data removed]"
          },
          "metadata": {
            "needs_background": "light"
          }
        }
      ],
      "source": [
        "plt.figure(figsize=(20,3))\n",
        "ax = sns.boxplot(data=dataset[\"total_debt\"].replace(\",\",\".\",regex=True), orient=\"h\", palette=\"Set2\")\n",
        "plt.xlim(0, 1000)"
      ]
    },
    {
      "cell_type": "code",
      "execution_count": 42,
      "metadata": {
        "id": "DpJCyH7QWCOg"
      },
      "outputs": [],
      "source": [
        "#cleaning outliers\n",
        "dataset.drop(dataset[dataset.total_debt > 650].index,axis =0, inplace = True)"
      ]
    },
    {
      "cell_type": "code",
      "execution_count": 43,
      "metadata": {
        "scrolled": false,
        "id": "jnNERPLrWCOg",
        "outputId": "b873e6be-3bbf-44d2-b984-ac4f9829a1fb",
        "colab": {
          "base_uri": "https://localhost:8080/",
          "height": 0
        }
      },
      "outputs": [
        {
          "output_type": "execute_result",
          "data": {
            "text/plain": [
              "    client_id  regional   site  client_class  client_subclass  \\\n",
              "2           2         1  12380             1                1   \n",
              "5           5         3  32281             3                1   \n",
              "10         10         2  22271             1                1   \n",
              "11         11         3  32281             1                1   \n",
              "12         12         4  42401             1                1   \n",
              "\n",
              "            connection_type connection_status  installment_value  \\\n",
              "2       biphasic connection      disconnected               0.00   \n",
              "5   single-phase connection      disconnected             295.55   \n",
              "10  single-phase connection      disconnected               0.00   \n",
              "11  single-phase connection      disconnected               0.00   \n",
              "12      biphasic connection         connected               0.00   \n",
              "\n",
              "   installment_status  total_debt  total_bills disconnection_date  \\\n",
              "2      Not Aplicabble      352.56            1         2017-03-20   \n",
              "5             current      160.90            1         2017-03-31   \n",
              "10     Not Aplicabble      339.43            1         2017-03-17   \n",
              "11     Not Aplicabble      462.50            3         2017-03-31   \n",
              "12     Not Aplicabble      226.39            1         2017-03-22   \n",
              "\n",
              "   disconnection_requested contractor_id disconnection_executed  collected  \\\n",
              "2            circuit_break          20,0          circuit_break        0.0   \n",
              "5            circuit_break         189,0          circuit_break        0.0   \n",
              "10                    pole         166,0                   pole        0.0   \n",
              "11           circuit_break         189,0          circuit_break        0.0   \n",
              "12           circuit_break         272,0          circuit_break        1.0   \n",
              "\n",
              "   connection_type_num  connection_status_num  installment_status_num  \\\n",
              "2                    2                      0                       0   \n",
              "5                    1                      0                       1   \n",
              "10                   1                      0                       0   \n",
              "11                   1                      0                       0   \n",
              "12                   2                      1                       0   \n",
              "\n",
              "    disconnection_executed_num  \n",
              "2                            4  \n",
              "5                            4  \n",
              "10                           3  \n",
              "11                           4  \n",
              "12                           4  "
            ],
            "text/html": [
              "\n",
              "  <div id=\"df-675d6ab6-7207-42e1-9d90-a148b48659cf\">\n",
              "    <div class=\"colab-df-container\">\n",
              "      <div>\n",
              "<style scoped>\n",
              "    .dataframe tbody tr th:only-of-type {\n",
              "        vertical-align: middle;\n",
              "    }\n",
              "\n",
              "    .dataframe tbody tr th {\n",
              "        vertical-align: top;\n",
              "    }\n",
              "\n",
              "    .dataframe thead th {\n",
              "        text-align: right;\n",
              "    }\n",
              "</style>\n",
              "<table border=\"1\" class=\"dataframe\">\n",
              "  <thead>\n",
              "    <tr style=\"text-align: right;\">\n",
              "      <th></th>\n",
              "      <th>client_id</th>\n",
              "      <th>regional</th>\n",
              "      <th>site</th>\n",
              "      <th>client_class</th>\n",
              "      <th>client_subclass</th>\n",
              "      <th>connection_type</th>\n",
              "      <th>connection_status</th>\n",
              "      <th>installment_value</th>\n",
              "      <th>installment_status</th>\n",
              "      <th>total_debt</th>\n",
              "      <th>total_bills</th>\n",
              "      <th>disconnection_date</th>\n",
              "      <th>disconnection_requested</th>\n",
              "      <th>contractor_id</th>\n",
              "      <th>disconnection_executed</th>\n",
              "      <th>collected</th>\n",
              "      <th>connection_type_num</th>\n",
              "      <th>connection_status_num</th>\n",
              "      <th>installment_status_num</th>\n",
              "      <th>disconnection_executed_num</th>\n",
              "    </tr>\n",
              "  </thead>\n",
              "  <tbody>\n",
              "    <tr>\n",
              "      <th>2</th>\n",
              "      <td>2</td>\n",
              "      <td>1</td>\n",
              "      <td>12380</td>\n",
              "      <td>1</td>\n",
              "      <td>1</td>\n",
              "      <td>biphasic connection</td>\n",
              "      <td>disconnected</td>\n",
              "      <td>0.00</td>\n",
              "      <td>Not Aplicabble</td>\n",
              "      <td>352.56</td>\n",
              "      <td>1</td>\n",
              "      <td>2017-03-20</td>\n",
              "      <td>circuit_break</td>\n",
              "      <td>20,0</td>\n",
              "      <td>circuit_break</td>\n",
              "      <td>0.0</td>\n",
              "      <td>2</td>\n",
              "      <td>0</td>\n",
              "      <td>0</td>\n",
              "      <td>4</td>\n",
              "    </tr>\n",
              "    <tr>\n",
              "      <th>5</th>\n",
              "      <td>5</td>\n",
              "      <td>3</td>\n",
              "      <td>32281</td>\n",
              "      <td>3</td>\n",
              "      <td>1</td>\n",
              "      <td>single-phase connection</td>\n",
              "      <td>disconnected</td>\n",
              "      <td>295.55</td>\n",
              "      <td>current</td>\n",
              "      <td>160.90</td>\n",
              "      <td>1</td>\n",
              "      <td>2017-03-31</td>\n",
              "      <td>circuit_break</td>\n",
              "      <td>189,0</td>\n",
              "      <td>circuit_break</td>\n",
              "      <td>0.0</td>\n",
              "      <td>1</td>\n",
              "      <td>0</td>\n",
              "      <td>1</td>\n",
              "      <td>4</td>\n",
              "    </tr>\n",
              "    <tr>\n",
              "      <th>10</th>\n",
              "      <td>10</td>\n",
              "      <td>2</td>\n",
              "      <td>22271</td>\n",
              "      <td>1</td>\n",
              "      <td>1</td>\n",
              "      <td>single-phase connection</td>\n",
              "      <td>disconnected</td>\n",
              "      <td>0.00</td>\n",
              "      <td>Not Aplicabble</td>\n",
              "      <td>339.43</td>\n",
              "      <td>1</td>\n",
              "      <td>2017-03-17</td>\n",
              "      <td>pole</td>\n",
              "      <td>166,0</td>\n",
              "      <td>pole</td>\n",
              "      <td>0.0</td>\n",
              "      <td>1</td>\n",
              "      <td>0</td>\n",
              "      <td>0</td>\n",
              "      <td>3</td>\n",
              "    </tr>\n",
              "    <tr>\n",
              "      <th>11</th>\n",
              "      <td>11</td>\n",
              "      <td>3</td>\n",
              "      <td>32281</td>\n",
              "      <td>1</td>\n",
              "      <td>1</td>\n",
              "      <td>single-phase connection</td>\n",
              "      <td>disconnected</td>\n",
              "      <td>0.00</td>\n",
              "      <td>Not Aplicabble</td>\n",
              "      <td>462.50</td>\n",
              "      <td>3</td>\n",
              "      <td>2017-03-31</td>\n",
              "      <td>circuit_break</td>\n",
              "      <td>189,0</td>\n",
              "      <td>circuit_break</td>\n",
              "      <td>0.0</td>\n",
              "      <td>1</td>\n",
              "      <td>0</td>\n",
              "      <td>0</td>\n",
              "      <td>4</td>\n",
              "    </tr>\n",
              "    <tr>\n",
              "      <th>12</th>\n",
              "      <td>12</td>\n",
              "      <td>4</td>\n",
              "      <td>42401</td>\n",
              "      <td>1</td>\n",
              "      <td>1</td>\n",
              "      <td>biphasic connection</td>\n",
              "      <td>connected</td>\n",
              "      <td>0.00</td>\n",
              "      <td>Not Aplicabble</td>\n",
              "      <td>226.39</td>\n",
              "      <td>1</td>\n",
              "      <td>2017-03-22</td>\n",
              "      <td>circuit_break</td>\n",
              "      <td>272,0</td>\n",
              "      <td>circuit_break</td>\n",
              "      <td>1.0</td>\n",
              "      <td>2</td>\n",
              "      <td>1</td>\n",
              "      <td>0</td>\n",
              "      <td>4</td>\n",
              "    </tr>\n",
              "  </tbody>\n",
              "</table>\n",
              "</div>\n",
              "      <button class=\"colab-df-convert\" onclick=\"convertToInteractive('df-675d6ab6-7207-42e1-9d90-a148b48659cf')\"\n",
              "              title=\"Convert this dataframe to an interactive table.\"\n",
              "              style=\"display:none;\">\n",
              "        \n",
              "  <svg xmlns=\"http://www.w3.org/2000/svg\" height=\"24px\"viewBox=\"0 0 24 24\"\n",
              "       width=\"24px\">\n",
              "    <path d=\"M0 0h24v24H0V0z\" fill=\"none\"/>\n",
              "    <path d=\"M18.56 5.44l.94 2.06.94-2.06 2.06-.94-2.06-.94-.94-2.06-.94 2.06-2.06.94zm-11 1L8.5 8.5l.94-2.06 2.06-.94-2.06-.94L8.5 2.5l-.94 2.06-2.06.94zm10 10l.94 2.06.94-2.06 2.06-.94-2.06-.94-.94-2.06-.94 2.06-2.06.94z\"/><path d=\"M17.41 7.96l-1.37-1.37c-.4-.4-.92-.59-1.43-.59-.52 0-1.04.2-1.43.59L10.3 9.45l-7.72 7.72c-.78.78-.78 2.05 0 2.83L4 21.41c.39.39.9.59 1.41.59.51 0 1.02-.2 1.41-.59l7.78-7.78 2.81-2.81c.8-.78.8-2.07 0-2.86zM5.41 20L4 18.59l7.72-7.72 1.47 1.35L5.41 20z\"/>\n",
              "  </svg>\n",
              "      </button>\n",
              "      \n",
              "  <style>\n",
              "    .colab-df-container {\n",
              "      display:flex;\n",
              "      flex-wrap:wrap;\n",
              "      gap: 12px;\n",
              "    }\n",
              "\n",
              "    .colab-df-convert {\n",
              "      background-color: #E8F0FE;\n",
              "      border: none;\n",
              "      border-radius: 50%;\n",
              "      cursor: pointer;\n",
              "      display: none;\n",
              "      fill: #1967D2;\n",
              "      height: 32px;\n",
              "      padding: 0 0 0 0;\n",
              "      width: 32px;\n",
              "    }\n",
              "\n",
              "    .colab-df-convert:hover {\n",
              "      background-color: #E2EBFA;\n",
              "      box-shadow: 0px 1px 2px rgba(60, 64, 67, 0.3), 0px 1px 3px 1px rgba(60, 64, 67, 0.15);\n",
              "      fill: #174EA6;\n",
              "    }\n",
              "\n",
              "    [theme=dark] .colab-df-convert {\n",
              "      background-color: #3B4455;\n",
              "      fill: #D2E3FC;\n",
              "    }\n",
              "\n",
              "    [theme=dark] .colab-df-convert:hover {\n",
              "      background-color: #434B5C;\n",
              "      box-shadow: 0px 1px 3px 1px rgba(0, 0, 0, 0.15);\n",
              "      filter: drop-shadow(0px 1px 2px rgba(0, 0, 0, 0.3));\n",
              "      fill: #FFFFFF;\n",
              "    }\n",
              "  </style>\n",
              "\n",
              "      <script>\n",
              "        const buttonEl =\n",
              "          document.querySelector('#df-675d6ab6-7207-42e1-9d90-a148b48659cf button.colab-df-convert');\n",
              "        buttonEl.style.display =\n",
              "          google.colab.kernel.accessAllowed ? 'block' : 'none';\n",
              "\n",
              "        async function convertToInteractive(key) {\n",
              "          const element = document.querySelector('#df-675d6ab6-7207-42e1-9d90-a148b48659cf');\n",
              "          const dataTable =\n",
              "            await google.colab.kernel.invokeFunction('convertToInteractive',\n",
              "                                                     [key], {});\n",
              "          if (!dataTable) return;\n",
              "\n",
              "          const docLinkHtml = 'Like what you see? Visit the ' +\n",
              "            '<a target=\"_blank\" href=https://colab.research.google.com/notebooks/data_table.ipynb>data table notebook</a>'\n",
              "            + ' to learn more about interactive tables.';\n",
              "          element.innerHTML = '';\n",
              "          dataTable['output_type'] = 'display_data';\n",
              "          await google.colab.output.renderOutput(dataTable, element);\n",
              "          const docLink = document.createElement('div');\n",
              "          docLink.innerHTML = docLinkHtml;\n",
              "          element.appendChild(docLink);\n",
              "        }\n",
              "      </script>\n",
              "    </div>\n",
              "  </div>\n",
              "  "
            ]
          },
          "metadata": {},
          "execution_count": 43
        }
      ],
      "source": [
        "dataset.head()"
      ]
    },
    {
      "cell_type": "code",
      "execution_count": 44,
      "metadata": {
        "scrolled": false,
        "id": "1geini6vWCOg",
        "outputId": "c70bd78c-70e4-4bd6-d7bd-18127aff9e85",
        "colab": {
          "base_uri": "https://localhost:8080/"
        }
      },
      "outputs": [
        {
          "output_type": "stream",
          "name": "stdout",
          "text": [
            "<class 'pandas.core.frame.DataFrame'>\n",
            "Int64Index: 508100 entries, 2 to 618345\n",
            "Data columns (total 20 columns):\n",
            " #   Column                      Non-Null Count   Dtype         \n",
            "---  ------                      --------------   -----         \n",
            " 0   client_id                   508100 non-null  int64         \n",
            " 1   regional                    508100 non-null  int64         \n",
            " 2   site                        508100 non-null  int64         \n",
            " 3   client_class                508100 non-null  int64         \n",
            " 4   client_subclass             508100 non-null  int64         \n",
            " 5   connection_type             508100 non-null  object        \n",
            " 6   connection_status           508100 non-null  object        \n",
            " 7   installment_value           508100 non-null  float64       \n",
            " 8   installment_status          508100 non-null  object        \n",
            " 9   total_debt                  508100 non-null  float64       \n",
            " 10  total_bills                 508100 non-null  int64         \n",
            " 11  disconnection_date          508100 non-null  datetime64[ns]\n",
            " 12  disconnection_requested     508100 non-null  object        \n",
            " 13  contractor_id               508100 non-null  object        \n",
            " 14  disconnection_executed      508100 non-null  object        \n",
            " 15  collected                   508100 non-null  float64       \n",
            " 16  connection_type_num         508100 non-null  object        \n",
            " 17  connection_status_num       508100 non-null  int64         \n",
            " 18  installment_status_num      508100 non-null  int64         \n",
            " 19  disconnection_executed_num  508100 non-null  int64         \n",
            "dtypes: datetime64[ns](1), float64(3), int64(9), object(7)\n",
            "memory usage: 81.4+ MB\n"
          ]
        }
      ],
      "source": [
        "dataset.info()"
      ]
    },
    {
      "cell_type": "markdown",
      "metadata": {
        "id": "qqXdumAjWCOg"
      },
      "source": [
        "## 1.7 Date "
      ]
    },
    {
      "cell_type": "code",
      "execution_count": 45,
      "metadata": {
        "id": "jgXSAxQIWCOg",
        "outputId": "1d464654-2170-48f5-ceba-aa603dfb0a5c",
        "colab": {
          "base_uri": "https://localhost:8080/",
          "height": 300
        }
      },
      "outputs": [
        {
          "output_type": "execute_result",
          "data": {
            "text/plain": [
              "<Figure size 3600x216 with 0 Axes>"
            ]
          },
          "metadata": {},
          "execution_count": 45
        },
        {
          "output_type": "display_data",
          "data": {
            "text/plain": [
              "<Figure size 432x288 with 1 Axes>"
            ],
            "image/png": "[encoded data removed]"
          },
          "metadata": {
            "needs_background": "light"
          }
        },
        {
          "output_type": "display_data",
          "data": {
            "text/plain": [
              "<Figure size 3600x216 with 0 Axes>"
            ]
          },
          "metadata": {}
        }
      ],
      "source": [
        "fig, ax = plt.subplots()\n",
        "ax.plot(dataset['disconnection_date'],dataset['total_bills'], linewidth=2.0)\n",
        "plt.figure(figsize=(50,3))"
      ]
    },
    {
      "cell_type": "markdown",
      "metadata": {
        "id": "VOagl_XiWCOh"
      },
      "source": [
        "# 2. Correlating Data"
      ]
    },
    {
      "cell_type": "code",
      "execution_count": 46,
      "metadata": {
        "scrolled": false,
        "id": "Ow-Yj1YhWCOh",
        "outputId": "099247f0-47b8-454a-fd02-246779c68023",
        "colab": {
          "base_uri": "https://localhost:8080/",
          "height": 1000
        }
      },
      "outputs": [
        {
          "output_type": "display_data",
          "data": {
            "text/plain": [
              "<Figure size 1440x1440 with 2 Axes>"
            ],
            "image/png": "[encoded data removed]"
          },
          "metadata": {
            "needs_background": "light"
          }
        }
      ],
      "source": [
        "# PEARSON CORRELATION\n",
        "\n",
        "f,ax=plt.subplots(figsize=(dataset.shape[1],dataset.shape[1]))\n",
        "df_corr = dataset.corr(method = \"pearson\")\n",
        "mask = np.triu(np.ones_like(df_corr, dtype=bool))\n",
        "#print(mask)\n",
        "mask = mask[1:,:-1]\n",
        "#print(mask)\n",
        "corr = df_corr.iloc[1:,:-1].copy()\n",
        "#print(corr)\n",
        "sns.heatmap(corr, mask=mask,annot=True,fmt=\".2f\", cmap='Blues', vmin=-1, vmax=1, cbar_kws={\"shrink\":.8})\n",
        "plt.show()"
      ]
    },
    {
      "cell_type": "code",
      "execution_count": 47,
      "metadata": {
        "id": "Evkfpn35WCOh",
        "outputId": "90d03c1f-5a2c-4a51-9bc0-6cbe3d7680cf",
        "colab": {
          "base_uri": "https://localhost:8080/",
          "height": 500
        }
      },
      "outputs": [
        {
          "output_type": "execute_result",
          "data": {
            "text/plain": [
              "<matplotlib.axes._subplots.AxesSubplot at 0x7fb6e8c3f510>"
            ]
          },
          "metadata": {},
          "execution_count": 47
        },
        {
          "output_type": "display_data",
          "data": {
            "text/plain": [
              "<Figure size 864x576 with 1 Axes>"
            ],
            "image/png": "[encoded data removed]"
          },
          "metadata": {
            "needs_background": "light"
          }
        }
      ],
      "source": [
        "dataset.query(\"total_debt<300000\").total_debt.hist(figsize=(12,8),histtype='stepfilled')\n",
        "#plt.ylim(0, 3000)"
      ]
    },
    {
      "cell_type": "code",
      "execution_count": 48,
      "metadata": {
        "scrolled": false,
        "id": "ziUJqjE_WCOh",
        "outputId": "241d377f-d399-45d5-b053-c938794e794e",
        "colab": {
          "base_uri": "https://localhost:8080/"
        }
      },
      "outputs": [
        {
          "output_type": "stream",
          "name": "stdout",
          "text": [
            "<class 'pandas.core.frame.DataFrame'>\n",
            "Int64Index: 508100 entries, 2 to 618345\n",
            "Data columns (total 20 columns):\n",
            " #   Column                      Non-Null Count   Dtype         \n",
            "---  ------                      --------------   -----         \n",
            " 0   client_id                   508100 non-null  int64         \n",
            " 1   regional                    508100 non-null  int64         \n",
            " 2   site                        508100 non-null  int64         \n",
            " 3   client_class                508100 non-null  int64         \n",
            " 4   client_subclass             508100 non-null  int64         \n",
            " 5   connection_type             508100 non-null  object        \n",
            " 6   connection_status           508100 non-null  object        \n",
            " 7   installment_value           508100 non-null  float64       \n",
            " 8   installment_status          508100 non-null  object        \n",
            " 9   total_debt                  508100 non-null  float64       \n",
            " 10  total_bills                 508100 non-null  int64         \n",
            " 11  disconnection_date          508100 non-null  datetime64[ns]\n",
            " 12  disconnection_requested     508100 non-null  object        \n",
            " 13  contractor_id               508100 non-null  object        \n",
            " 14  disconnection_executed      508100 non-null  object        \n",
            " 15  collected                   508100 non-null  float64       \n",
            " 16  connection_type_num         508100 non-null  object        \n",
            " 17  connection_status_num       508100 non-null  int64         \n",
            " 18  installment_status_num      508100 non-null  int64         \n",
            " 19  disconnection_executed_num  508100 non-null  int64         \n",
            "dtypes: datetime64[ns](1), float64(3), int64(9), object(7)\n",
            "memory usage: 81.4+ MB\n"
          ]
        }
      ],
      "source": [
        "dataset.info()"
      ]
    },
    {
      "cell_type": "markdown",
      "metadata": {
        "id": "cdUZBZk9WCOh"
      },
      "source": [
        "People with less bill and debt tends pay more than who have more bills and intallment_value do not have *relevance*\n"
      ]
    },
    {
      "cell_type": "markdown",
      "source": [
        "connection_status_num / total_bills / disconnection_executed / collected"
      ],
      "metadata": {
        "id": "LzqPp6ZuZdbk"
      }
    },
    {
      "cell_type": "markdown",
      "source": [
        "# Machine Learning"
      ],
      "metadata": {
        "id": "y52IDuJGabZ1"
      }
    },
    {
      "cell_type": "code",
      "source": [
        "model_features = ['connection_status_num', 'total_bills', 'disconnection_executed_num']"
      ],
      "metadata": {
        "id": "GqY0fhnXk4X1"
      },
      "execution_count": 49,
      "outputs": []
    },
    {
      "cell_type": "code",
      "source": [
        "X = dataset[model_features]"
      ],
      "metadata": {
        "id": "QtqHwG36jvlC"
      },
      "execution_count": 50,
      "outputs": []
    },
    {
      "cell_type": "code",
      "source": [
        "y = dataset.iloc[:, -1].values"
      ],
      "metadata": {
        "id": "6w5BszVbl2UN"
      },
      "execution_count": 51,
      "outputs": []
    },
    {
      "cell_type": "code",
      "source": [
        "from sklearn.svm import SVC\n",
        "from sklearn.preprocessing import StandardScaler\n",
        "from sklearn.datasets import make_classification\n",
        "from sklearn.model_selection import train_test_split\n",
        "from sklearn.pipeline import Pipeline\n",
        "\n",
        "X_train, X_test, y_train, y_test = train_test_split(X, y,test_size = 0.2,\n",
        "                                                                    stratify = y, random_state=0)\n",
        "pipe = Pipeline([('scaler', StandardScaler()), ('svc', SVC())])\n",
        "# The pipeline can be used as any other estimator\n",
        "# and avoids leaking the test set into the train set\n",
        "pipe.fit(X_train, y_train)\n",
        "Pipeline(steps=[('scaler', StandardScaler()), ('svc', SVC())])\n",
        "pipe.score(X_test, y_test)"
      ],
      "metadata": {
        "id": "R2OL-kT-dW61",
        "colab": {
          "base_uri": "https://localhost:8080/"
        },
        "outputId": "5d37ed3e-e882-4257-ebb6-d68e5622faf8"
      },
      "execution_count": 52,
      "outputs": [
        {
          "output_type": "execute_result",
          "data": {
            "text/plain": [
              "0.9999507970871876"
            ]
          },
          "metadata": {},
          "execution_count": 52
        }
      ]
    },
    {
      "cell_type": "code",
      "source": [
        "X_train.shape"
      ],
      "metadata": {
        "colab": {
          "base_uri": "https://localhost:8080/"
        },
        "id": "Chywp86gw3p_",
        "outputId": "313d2b1a-e1ad-4715-d341-b1544f91bfa8"
      },
      "execution_count": 60,
      "outputs": [
        {
          "output_type": "execute_result",
          "data": {
            "text/plain": [
              "(406480, 3)"
            ]
          },
          "metadata": {},
          "execution_count": 60
        }
      ]
    },
    {
      "cell_type": "code",
      "source": [
        "X_test.shape"
      ],
      "metadata": {
        "colab": {
          "base_uri": "https://localhost:8080/"
        },
        "id": "mGqdfqSNw_xe",
        "outputId": "09eb9ed1-4dbd-4c25-9bbc-d210e782ff3d"
      },
      "execution_count": 61,
      "outputs": [
        {
          "output_type": "execute_result",
          "data": {
            "text/plain": [
              "(101620, 3)"
            ]
          },
          "metadata": {},
          "execution_count": 61
        }
      ]
    },
    {
      "cell_type": "code",
      "source": [
        "from sklearn.ensemble import RandomForestClassifier\n",
        "modelo = RandomForestClassifier()\n",
        "modelo.fit(X_train, y_train)\n",
        "previsoes = modelo.predict(X_test)\n",
        "\n",
        "from sklearn.metrics import accuracy_score\n",
        "\n",
        "accuracy_score(previsoes, y_test)"
      ],
      "metadata": {
        "id": "92m6z9XSa_i6",
        "colab": {
          "base_uri": "https://localhost:8080/"
        },
        "outputId": "e11e729b-4483-4c7f-d4b0-e8ead12164cc"
      },
      "execution_count": 53,
      "outputs": [
        {
          "output_type": "execute_result",
          "data": {
            "text/plain": [
              "1.0"
            ]
          },
          "metadata": {},
          "execution_count": 53
        }
      ]
    },
    {
      "cell_type": "code",
      "source": [
        "from sklearn.model_selection import train_test_split\n",
        "from sklearn.naive_bayes import GaussianNB\n",
        "from sklearn.linear_model import LogisticRegression\n",
        "from sklearn.ensemble import RandomForestClassifier\n",
        "from sklearn.metrics import accuracy_score\n",
        "from sklearn.model_selection import cross_val_score, KFold"
      ],
      "metadata": {
        "id": "Y4e20RCDhz3N"
      },
      "execution_count": 54,
      "outputs": []
    },
    {
      "cell_type": "code",
      "source": [
        "resultados_naive_bayes_cv = []\n",
        "resultados_logistica_cv = []\n",
        "resultados_forest_cv = []\n",
        "for i in range(1): # Ele está repetindo essa rotinha de treinamento e acuracidade 30 vezes \n",
        "  kfold = KFold(n_splits = 10, shuffle = True, random_state = i) #splits = em quantas partes a base de dados está sendo dividida \n",
        "  naive_bayes = GaussianNB()\n",
        "  scores = cross_val_score(naive_bayes, X, y, cv = kfold)\n",
        "  resultados_naive_bayes_cv.append(scores.mean())\n",
        "\n",
        "  logistica = LogisticRegression()\n",
        "  scores = cross_val_score(logistica, X, y, cv = kfold)\n",
        "  resultados_logistica_cv.append(scores.mean())\n",
        "  \n",
        "  random_forest = RandomForestClassifier()\n",
        "  scores = cross_val_score(random_forest, X, y, cv = kfold)\n",
        "  resultados_forest_cv.append(scores.mean())"
      ],
      "metadata": {
        "colab": {
          "base_uri": "https://localhost:8080/"
        },
        "id": "eJA8Z4jchnMt",
        "outputId": "3d17d517-324e-471b-fe86-34f58ff3ebb6"
      },
      "execution_count": 55,
      "outputs": [
        {
          "output_type": "stream",
          "name": "stderr",
          "text": [
            "/usr/local/lib/python3.7/dist-packages/sklearn/linear_model/_logistic.py:818: ConvergenceWarning: lbfgs failed to converge (status=1):\n",
            "STOP: TOTAL NO. of ITERATIONS REACHED LIMIT.\n",
            "\n",
            "Increase the number of iterations (max_iter) or scale the data as shown in:\n",
            "    https://scikit-learn.org/stable/modules/preprocessing.html\n",
            "Please also refer to the documentation for alternative solver options:\n",
            "    https://scikit-learn.org/stable/modules/linear_model.html#logistic-regression\n",
            "  extra_warning_msg=_LOGISTIC_SOLVER_CONVERGENCE_MSG,\n",
            "/usr/local/lib/python3.7/dist-packages/sklearn/linear_model/_logistic.py:818: ConvergenceWarning: lbfgs failed to converge (status=1):\n",
            "STOP: TOTAL NO. of ITERATIONS REACHED LIMIT.\n",
            "\n",
            "Increase the number of iterations (max_iter) or scale the data as shown in:\n",
            "    https://scikit-learn.org/stable/modules/preprocessing.html\n",
            "Please also refer to the documentation for alternative solver options:\n",
            "    https://scikit-learn.org/stable/modules/linear_model.html#logistic-regression\n",
            "  extra_warning_msg=_LOGISTIC_SOLVER_CONVERGENCE_MSG,\n",
            "/usr/local/lib/python3.7/dist-packages/sklearn/linear_model/_logistic.py:818: ConvergenceWarning: lbfgs failed to converge (status=1):\n",
            "STOP: TOTAL NO. of ITERATIONS REACHED LIMIT.\n",
            "\n",
            "Increase the number of iterations (max_iter) or scale the data as shown in:\n",
            "    https://scikit-learn.org/stable/modules/preprocessing.html\n",
            "Please also refer to the documentation for alternative solver options:\n",
            "    https://scikit-learn.org/stable/modules/linear_model.html#logistic-regression\n",
            "  extra_warning_msg=_LOGISTIC_SOLVER_CONVERGENCE_MSG,\n",
            "/usr/local/lib/python3.7/dist-packages/sklearn/linear_model/_logistic.py:818: ConvergenceWarning: lbfgs failed to converge (status=1):\n",
            "STOP: TOTAL NO. of ITERATIONS REACHED LIMIT.\n",
            "\n",
            "Increase the number of iterations (max_iter) or scale the data as shown in:\n",
            "    https://scikit-learn.org/stable/modules/preprocessing.html\n",
            "Please also refer to the documentation for alternative solver options:\n",
            "    https://scikit-learn.org/stable/modules/linear_model.html#logistic-regression\n",
            "  extra_warning_msg=_LOGISTIC_SOLVER_CONVERGENCE_MSG,\n",
            "/usr/local/lib/python3.7/dist-packages/sklearn/linear_model/_logistic.py:818: ConvergenceWarning: lbfgs failed to converge (status=1):\n",
            "STOP: TOTAL NO. of ITERATIONS REACHED LIMIT.\n",
            "\n",
            "Increase the number of iterations (max_iter) or scale the data as shown in:\n",
            "    https://scikit-learn.org/stable/modules/preprocessing.html\n",
            "Please also refer to the documentation for alternative solver options:\n",
            "    https://scikit-learn.org/stable/modules/linear_model.html#logistic-regression\n",
            "  extra_warning_msg=_LOGISTIC_SOLVER_CONVERGENCE_MSG,\n",
            "/usr/local/lib/python3.7/dist-packages/sklearn/linear_model/_logistic.py:818: ConvergenceWarning: lbfgs failed to converge (status=1):\n",
            "STOP: TOTAL NO. of ITERATIONS REACHED LIMIT.\n",
            "\n",
            "Increase the number of iterations (max_iter) or scale the data as shown in:\n",
            "    https://scikit-learn.org/stable/modules/preprocessing.html\n",
            "Please also refer to the documentation for alternative solver options:\n",
            "    https://scikit-learn.org/stable/modules/linear_model.html#logistic-regression\n",
            "  extra_warning_msg=_LOGISTIC_SOLVER_CONVERGENCE_MSG,\n",
            "/usr/local/lib/python3.7/dist-packages/sklearn/linear_model/_logistic.py:818: ConvergenceWarning: lbfgs failed to converge (status=1):\n",
            "STOP: TOTAL NO. of ITERATIONS REACHED LIMIT.\n",
            "\n",
            "Increase the number of iterations (max_iter) or scale the data as shown in:\n",
            "    https://scikit-learn.org/stable/modules/preprocessing.html\n",
            "Please also refer to the documentation for alternative solver options:\n",
            "    https://scikit-learn.org/stable/modules/linear_model.html#logistic-regression\n",
            "  extra_warning_msg=_LOGISTIC_SOLVER_CONVERGENCE_MSG,\n",
            "/usr/local/lib/python3.7/dist-packages/sklearn/linear_model/_logistic.py:818: ConvergenceWarning: lbfgs failed to converge (status=1):\n",
            "STOP: TOTAL NO. of ITERATIONS REACHED LIMIT.\n",
            "\n",
            "Increase the number of iterations (max_iter) or scale the data as shown in:\n",
            "    https://scikit-learn.org/stable/modules/preprocessing.html\n",
            "Please also refer to the documentation for alternative solver options:\n",
            "    https://scikit-learn.org/stable/modules/linear_model.html#logistic-regression\n",
            "  extra_warning_msg=_LOGISTIC_SOLVER_CONVERGENCE_MSG,\n",
            "/usr/local/lib/python3.7/dist-packages/sklearn/linear_model/_logistic.py:818: ConvergenceWarning: lbfgs failed to converge (status=1):\n",
            "STOP: TOTAL NO. of ITERATIONS REACHED LIMIT.\n",
            "\n",
            "Increase the number of iterations (max_iter) or scale the data as shown in:\n",
            "    https://scikit-learn.org/stable/modules/preprocessing.html\n",
            "Please also refer to the documentation for alternative solver options:\n",
            "    https://scikit-learn.org/stable/modules/linear_model.html#logistic-regression\n",
            "  extra_warning_msg=_LOGISTIC_SOLVER_CONVERGENCE_MSG,\n",
            "/usr/local/lib/python3.7/dist-packages/sklearn/linear_model/_logistic.py:818: ConvergenceWarning: lbfgs failed to converge (status=1):\n",
            "STOP: TOTAL NO. of ITERATIONS REACHED LIMIT.\n",
            "\n",
            "Increase the number of iterations (max_iter) or scale the data as shown in:\n",
            "    https://scikit-learn.org/stable/modules/preprocessing.html\n",
            "Please also refer to the documentation for alternative solver options:\n",
            "    https://scikit-learn.org/stable/modules/linear_model.html#logistic-regression\n",
            "  extra_warning_msg=_LOGISTIC_SOLVER_CONVERGENCE_MSG,\n"
          ]
        }
      ]
    },
    {
      "cell_type": "code",
      "source": [
        "print(resultados_naive_bayes_cv)"
      ],
      "metadata": {
        "colab": {
          "base_uri": "https://localhost:8080/"
        },
        "id": "n1vGApTGigmh",
        "outputId": "43c78226-9143-4760-8781-e3d478389e41"
      },
      "execution_count": 56,
      "outputs": [
        {
          "output_type": "stream",
          "name": "stdout",
          "text": [
            "[1.0]\n"
          ]
        }
      ]
    },
    {
      "cell_type": "code",
      "source": [
        "print(resultados_logistica_cv)"
      ],
      "metadata": {
        "colab": {
          "base_uri": "https://localhost:8080/"
        },
        "id": "qFkkfy68iiJ9",
        "outputId": "e953ba43-2407-4267-98f9-ad85b5886fe3"
      },
      "execution_count": 57,
      "outputs": [
        {
          "output_type": "stream",
          "name": "stdout",
          "text": [
            "[1.0]\n"
          ]
        }
      ]
    },
    {
      "cell_type": "code",
      "source": [
        "print(resultados_forest_cv)"
      ],
      "metadata": {
        "colab": {
          "base_uri": "https://localhost:8080/"
        },
        "id": "90VNu1sqilVx",
        "outputId": "a8959579-082b-49a5-97df-b721ff15bb65"
      },
      "execution_count": 58,
      "outputs": [
        {
          "output_type": "stream",
          "name": "stdout",
          "text": [
            "[1.0]\n"
          ]
        }
      ]
    }
  ],
  "metadata": {
    "kernelspec": {
      "display_name": "Python 3",
      "language": "python",
      "name": "python3"
    },
    "language_info": {
      "codemirror_mode": {
        "name": "ipython",
        "version": 3
      },
      "file_extension": ".py",
      "mimetype": "text/x-python",
      "name": "python",
      "nbconvert_exporter": "python",
      "pygments_lexer": "ipython3",
      "version": "3.8.5"
    },
    "colab": {
      "provenance": [],
      "include_colab_link": true
    }
  },
  "nbformat": 4,
  "nbformat_minor": 0
}